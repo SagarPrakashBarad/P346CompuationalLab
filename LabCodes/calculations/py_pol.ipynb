{
 "cells": [
  {
   "cell_type": "code",
   "execution_count": 1,
   "metadata": {},
   "outputs": [],
   "source": [
    "from py_pol.jones_vector import Jones_vector, create_Jones_vectors\n",
    "from py_pol.stokes import Stokes\n",
    "from py_pol.utils import degrees\n",
    "import numpy as np"
   ]
  },
  {
   "cell_type": "code",
   "execution_count": 2,
   "metadata": {},
   "outputs": [
    {
     "name": "stdout",
     "output_type": "stream",
     "text": [
      "Source 1 = \n",
      "[+1.000]   \n",
      "[+0.000]   \n",
      "\n",
      "Source 1 @ 45.00 deg = \n",
      "[+0.707]   \n",
      "[+0.707]   \n",
      "\n"
     ]
    }
   ],
   "source": [
    "E1 = Jones_vector('Source 1')\n",
    "E1.linear_light(azimuth=0*degrees)\n",
    "print(E1)\n",
    "\n",
    "E1.rotate(angle=45*degrees)\n",
    "print(E1)"
   ]
  },
  {
   "cell_type": "code",
   "execution_count": 3,
   "metadata": {},
   "outputs": [
    {
     "name": "stdout",
     "output_type": "stream",
     "text": [
      "Source 1 = \n",
      "[+1.000]   \n",
      "[+0.000]   \n",
      " Source 2 = \n",
      "[+0.707]   \n",
      "[+0.707]   \n",
      "\n",
      "Source 2 = \n",
      "[+0.707]   \n",
      "[+0.707]   \n",
      " Source 2 = \n",
      "[+0.707]   \n",
      "[+0.707]   \n",
      "\n"
     ]
    }
   ],
   "source": [
    "E1 = Jones_vector('Source 1')\n",
    "E1.linear_light(azimuth=0*degrees)\n",
    "\n",
    "E2 = E1.rotate(angle=45*degrees, keep=True)\n",
    "E2.name = 'Source 2'\n",
    "print(E1, E2)\n",
    "\n",
    "E2 = E1.rotate(angle=45*degrees, keep=False)\n",
    "E2.name = 'Source 2'\n",
    "print(E1, E2)"
   ]
  }
 ],
 "metadata": {
  "kernelspec": {
   "display_name": "Qmsolve",
   "language": "python",
   "name": "python3"
  },
  "language_info": {
   "codemirror_mode": {
    "name": "ipython",
    "version": 3
   },
   "file_extension": ".py",
   "mimetype": "text/x-python",
   "name": "python",
   "nbconvert_exporter": "python",
   "pygments_lexer": "ipython3",
   "version": "3.9.16"
  }
 },
 "nbformat": 4,
 "nbformat_minor": 2
}
