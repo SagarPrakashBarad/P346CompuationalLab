{
 "cells": [
  {
   "cell_type": "code",
   "execution_count": 23,
   "metadata": {},
   "outputs": [],
   "source": [
    "from sympy import symbols, Matrix, sqrt, pi, exp, cos, sin, solve\n",
    "import math"
   ]
  },
  {
   "cell_type": "code",
   "execution_count": 24,
   "metadata": {},
   "outputs": [],
   "source": [
    "theta, phi = symbols('theta phi')"
   ]
  },
  {
   "cell_type": "code",
   "execution_count": 25,
   "metadata": {},
   "outputs": [],
   "source": [
    "# quarter-wave plate matrices\n",
    "QWP_0 = Matrix([[1, 0], [0, exp(pi/2 * 1j)]])  \n",
    "rotation_matrix = Matrix([[cos(theta), -sin(theta)], [sin(theta), cos(theta)]])\n",
    "rotation_inverse_matrix = Matrix([[cos(theta), sin(theta)], [-sin(theta), cos(theta)]])\n",
    "QWP_theta = rotation_matrix * QWP_0 * rotation_inverse_matrix\n",
    "QWP_phi = rotation_matrix.subs(theta, phi) * QWP_0 * rotation_inverse_matrix.subs(theta, phi)\n",
    "\n",
    "# half-wave plate matrices\n",
    "HWP_0 = Matrix([[1, 0], [0, -1]])  \n",
    "HWP_theta = rotation_matrix * HWP_0 * rotation_inverse_matrix\n",
    "HWP_phi = rotation_matrix.subs(theta, phi) * HWP_0 * rotation_inverse_matrix.subs(theta, phi)"
   ]
  },
  {
   "cell_type": "code",
   "execution_count": 26,
   "metadata": {},
   "outputs": [
    {
     "data": {
      "text/latex": [
       "$\\displaystyle \\left[\\begin{matrix}1 & 0\\\\0 & e^{0.5 i \\pi}\\end{matrix}\\right]$"
      ],
      "text/plain": [
       "Matrix([\n",
       "[1,             0],\n",
       "[0, exp(0.5*I*pi)]])"
      ]
     },
     "execution_count": 26,
     "metadata": {},
     "output_type": "execute_result"
    }
   ],
   "source": [
    "QWP_0"
   ]
  },
  {
   "cell_type": "code",
   "execution_count": 27,
   "metadata": {},
   "outputs": [
    {
     "data": {
      "text/latex": [
       "$\\displaystyle \\left[\\begin{matrix}i \\sin^{2}{\\left(\\theta \\right)} + \\cos^{2}{\\left(\\theta \\right)} & \\frac{\\left(1 - i\\right) \\sin{\\left(2 \\theta \\right)}}{2}\\\\\\frac{\\left(1 - i\\right) \\sin{\\left(2 \\theta \\right)}}{2} & \\sin^{2}{\\left(\\theta \\right)} + i \\cos^{2}{\\left(\\theta \\right)}\\end{matrix}\\right]$"
      ],
      "text/plain": [
       "Matrix([\n",
       "[I*sin(theta)**2 + cos(theta)**2,          (1 - I)*sin(2*theta)/2],\n",
       "[         (1 - I)*sin(2*theta)/2, sin(theta)**2 + I*cos(theta)**2]])"
      ]
     },
     "execution_count": 27,
     "metadata": {},
     "output_type": "execute_result"
    }
   ],
   "source": [
    "QWP_theta.simplify()\n",
    "QWP_theta "
   ]
  },
  {
   "cell_type": "code",
   "execution_count": 28,
   "metadata": {},
   "outputs": [
    {
     "data": {
      "text/latex": [
       "$\\displaystyle \\left[\\begin{matrix}i \\sin^{2}{\\left(\\phi \\right)} + \\cos^{2}{\\left(\\phi \\right)} & \\frac{\\left(1 - i\\right) \\sin{\\left(2 \\phi \\right)}}{2}\\\\\\frac{\\left(1 - i\\right) \\sin{\\left(2 \\phi \\right)}}{2} & \\sin^{2}{\\left(\\phi \\right)} + i \\cos^{2}{\\left(\\phi \\right)}\\end{matrix}\\right]$"
      ],
      "text/plain": [
       "Matrix([\n",
       "[I*sin(phi)**2 + cos(phi)**2,        (1 - I)*sin(2*phi)/2],\n",
       "[       (1 - I)*sin(2*phi)/2, sin(phi)**2 + I*cos(phi)**2]])"
      ]
     },
     "execution_count": 28,
     "metadata": {},
     "output_type": "execute_result"
    }
   ],
   "source": [
    "QWP_phi.simplify()\n",
    "QWP_phi"
   ]
  },
  {
   "cell_type": "code",
   "execution_count": 29,
   "metadata": {},
   "outputs": [
    {
     "data": {
      "text/latex": [
       "$\\displaystyle \\left[\\begin{matrix}1 & 0\\\\0 & -1\\end{matrix}\\right]$"
      ],
      "text/plain": [
       "Matrix([\n",
       "[1,  0],\n",
       "[0, -1]])"
      ]
     },
     "execution_count": 29,
     "metadata": {},
     "output_type": "execute_result"
    }
   ],
   "source": [
    "HWP_0"
   ]
  },
  {
   "cell_type": "code",
   "execution_count": 30,
   "metadata": {},
   "outputs": [
    {
     "data": {
      "text/latex": [
       "$\\displaystyle \\left[\\begin{matrix}\\cos{\\left(2 \\theta \\right)} & \\sin{\\left(2 \\theta \\right)}\\\\\\sin{\\left(2 \\theta \\right)} & - \\cos{\\left(2 \\theta \\right)}\\end{matrix}\\right]$"
      ],
      "text/plain": [
       "Matrix([\n",
       "[cos(2*theta),  sin(2*theta)],\n",
       "[sin(2*theta), -cos(2*theta)]])"
      ]
     },
     "execution_count": 30,
     "metadata": {},
     "output_type": "execute_result"
    }
   ],
   "source": [
    "HWP_theta.simplify()\n",
    "HWP_theta"
   ]
  },
  {
   "cell_type": "code",
   "execution_count": 31,
   "metadata": {},
   "outputs": [
    {
     "data": {
      "text/latex": [
       "$\\displaystyle \\left[\\begin{matrix}\\cos{\\left(2 \\phi \\right)} & \\sin{\\left(2 \\phi \\right)}\\\\\\sin{\\left(2 \\phi \\right)} & - \\cos{\\left(2 \\phi \\right)}\\end{matrix}\\right]$"
      ],
      "text/plain": [
       "Matrix([\n",
       "[cos(2*phi),  sin(2*phi)],\n",
       "[sin(2*phi), -cos(2*phi)]])"
      ]
     },
     "execution_count": 31,
     "metadata": {},
     "output_type": "execute_result"
    }
   ],
   "source": [
    "HWP_phi.simplify()\n",
    "HWP_phi"
   ]
  },
  {
   "cell_type": "code",
   "execution_count": 32,
   "metadata": {},
   "outputs": [],
   "source": [
    "HP = Matrix([1, 0])\n",
    "DP = 1/sqrt(2)*Matrix([1, 1])\n",
    "LC = 1/sqrt(2)*Matrix([1, 1j])\n",
    "RC = 1/sqrt(2)*Matrix([1, -1j])\n",
    "VP = Matrix([0, 1])"
   ]
  },
  {
   "cell_type": "code",
   "execution_count": 33,
   "metadata": {},
   "outputs": [],
   "source": [
    "f1 = QWP_theta * HP\n",
    "f1.simplify()"
   ]
  },
  {
   "cell_type": "code",
   "execution_count": 34,
   "metadata": {},
   "outputs": [
    {
     "data": {
      "text/latex": [
       "$\\displaystyle \\left[\\begin{matrix}i \\sin^{2}{\\left(\\theta \\right)} + \\cos^{2}{\\left(\\theta \\right)}\\\\\\frac{\\left(1 - i\\right) \\sin{\\left(2 \\theta \\right)}}{2}\\end{matrix}\\right]$"
      ],
      "text/plain": [
       "Matrix([\n",
       "[I*sin(theta)**2 + cos(theta)**2],\n",
       "[         (1 - I)*sin(2*theta)/2]])"
      ]
     },
     "execution_count": 34,
     "metadata": {},
     "output_type": "execute_result"
    }
   ],
   "source": [
    "f1"
   ]
  },
  {
   "cell_type": "code",
   "execution_count": 35,
   "metadata": {},
   "outputs": [],
   "source": [
    "f2 = QWP_phi * f1\n",
    "f2.simplify()"
   ]
  },
  {
   "cell_type": "code",
   "execution_count": 36,
   "metadata": {},
   "outputs": [
    {
     "data": {
      "text/latex": [
       "$\\displaystyle \\left[\\begin{matrix}\\left(i \\sin^{2}{\\left(\\phi \\right)} + \\cos^{2}{\\left(\\phi \\right)}\\right) \\left(i \\sin^{2}{\\left(\\theta \\right)} + \\cos^{2}{\\left(\\theta \\right)}\\right) + \\frac{\\left(1 - i\\right)^{2} \\sin{\\left(2 \\phi \\right)} \\sin{\\left(2 \\theta \\right)}}{4}\\\\\\frac{\\left(1 - i\\right) \\left(\\left(i \\sin^{2}{\\left(\\theta \\right)} + \\cos^{2}{\\left(\\theta \\right)}\\right) \\sin{\\left(2 \\phi \\right)} + \\left(\\sin^{2}{\\left(\\phi \\right)} + i \\cos^{2}{\\left(\\phi \\right)}\\right) \\sin{\\left(2 \\theta \\right)}\\right)}{2}\\end{matrix}\\right]$"
      ],
      "text/plain": [
       "Matrix([\n",
       "[(I*sin(phi)**2 + cos(phi)**2)*(I*sin(theta)**2 + cos(theta)**2) + (1 - I)**2*sin(2*phi)*sin(2*theta)/4],\n",
       "[ (1 - I)*((I*sin(theta)**2 + cos(theta)**2)*sin(2*phi) + (sin(phi)**2 + I*cos(phi)**2)*sin(2*theta))/2]])"
      ]
     },
     "execution_count": 36,
     "metadata": {},
     "output_type": "execute_result"
    }
   ],
   "source": [
    "f2"
   ]
  },
  {
   "cell_type": "code",
   "execution_count": 58,
   "metadata": {},
   "outputs": [
    {
     "data": {
      "text/latex": [
       "$\\displaystyle \\left[\\begin{matrix}\\left(i \\sin^{2}{\\left(\\theta \\right)} + \\cos^{2}{\\left(\\theta \\right)}\\right)^{2} + \\frac{\\left(1 - i\\right)^{2} \\sin^{2}{\\left(2 \\theta \\right)}}{4}\\\\\\sin{\\left(2 \\theta \\right)}\\end{matrix}\\right]$"
      ],
      "text/plain": [
       "Matrix([\n",
       "[(I*sin(theta)**2 + cos(theta)**2)**2 + (1 - I)**2*sin(2*theta)**2/4],\n",
       "[                                                       sin(2*theta)]])"
      ]
     },
     "execution_count": 58,
     "metadata": {},
     "output_type": "execute_result"
    }
   ],
   "source": [
    "f2_new = f2.subs(phi, theta)\n",
    "f2_new.simplify()\n",
    "f2_new"
   ]
  },
  {
   "cell_type": "code",
   "execution_count": 37,
   "metadata": {},
   "outputs": [],
   "source": [
    "f3 = HWP_phi * f1\n",
    "f3.simplify()"
   ]
  },
  {
   "cell_type": "code",
   "execution_count": 38,
   "metadata": {},
   "outputs": [
    {
     "data": {
      "text/latex": [
       "$\\displaystyle \\left[\\begin{matrix}\\left(i \\sin^{2}{\\left(\\theta \\right)} + \\cos^{2}{\\left(\\theta \\right)}\\right) \\cos{\\left(2 \\phi \\right)} + \\frac{\\left(1 - i\\right) \\sin{\\left(2 \\phi \\right)} \\sin{\\left(2 \\theta \\right)}}{2}\\\\\\frac{\\left(1 - i\\right) \\left(i \\sin{\\left(2 \\phi \\right)} + \\sin{\\left(2 \\phi - 2 \\theta \\right)}\\right)}{2}\\end{matrix}\\right]$"
      ],
      "text/plain": [
       "Matrix([\n",
       "[(I*sin(theta)**2 + cos(theta)**2)*cos(2*phi) + (1 - I)*sin(2*phi)*sin(2*theta)/2],\n",
       "[                                 (1 - I)*(I*sin(2*phi) + sin(2*phi - 2*theta))/2]])"
      ]
     },
     "execution_count": 38,
     "metadata": {},
     "output_type": "execute_result"
    }
   ],
   "source": [
    "f3"
   ]
  },
  {
   "cell_type": "code",
   "execution_count": 46,
   "metadata": {},
   "outputs": [
    {
     "data": {
      "text/latex": [
       "$\\displaystyle \\left[\\begin{matrix}\\cos{\\left(\\theta \\right)}\\\\i \\sin{\\left(\\theta \\right)}\\end{matrix}\\right]$"
      ],
      "text/plain": [
       "Matrix([\n",
       "[  cos(theta)],\n",
       "[I*sin(theta)]])"
      ]
     },
     "execution_count": 46,
     "metadata": {},
     "output_type": "execute_result"
    }
   ],
   "source": [
    "f3_new = f3.subs(phi, theta/2)\n",
    "f3_new.simplify()\n",
    "f3_new"
   ]
  },
  {
   "cell_type": "code",
   "execution_count": 50,
   "metadata": {},
   "outputs": [
    {
     "data": {
      "text/latex": [
       "$\\displaystyle \\left[\\begin{matrix}\\left(2 - 2 i\\right) \\cos^{3}{\\left(\\theta \\right)} + \\left(-1 + 2 i\\right) \\cos{\\left(\\theta \\right)}\\\\\\left(-2 + 2 i\\right) \\sin^{3}{\\left(\\theta \\right)} + \\left(2 - i\\right) \\sin{\\left(\\theta \\right)}\\end{matrix}\\right]$"
      ],
      "text/plain": [
       "Matrix([\n",
       "[(2 - 2*I)*cos(theta)**3 + (-1 + 2*I)*cos(theta)],\n",
       "[  (-2 + 2*I)*sin(theta)**3 + (2 - I)*sin(theta)]])"
      ]
     },
     "execution_count": 50,
     "metadata": {},
     "output_type": "execute_result"
    }
   ],
   "source": [
    "f4 = HWP_theta * f3_new\n",
    "f4.simplify()\n",
    "f4"
   ]
  },
  {
   "cell_type": "code",
   "execution_count": 39,
   "metadata": {},
   "outputs": [],
   "source": [
    "from sympy import atan2, re, im, pi, rad, simplify\n",
    "\n",
    "def complex_phase_difference(vector):\n",
    "    \"\"\"\n",
    "    Calculate the phase difference between two complex components given their matrix and vector representations.\n",
    "\n",
    "    Args:\n",
    "    vector (Matrix): A 2x1 column vector representing the complex components.\n",
    "\n",
    "    Returns:\n",
    "    float: The phase difference between the two complex components in radians.\n",
    "    \"\"\"\n",
    "    component1 = vector[0]\n",
    "    component2 = vector[1]\n",
    "\n",
    "    phase1 = atan2(im(component1), re(component1))\n",
    "    phase2 = atan2(im(component2), re(component2))\n",
    "    \n",
    "    phase_diff = phase2 - phase1\n",
    "    \n",
    "    # Handling phase difference to be within the range [-pi, pi)\n",
    "    phase_diff = phase_diff.rewrite(pi).evalf()\n",
    "    while phase_diff >= pi:\n",
    "        phase_diff -= 2*pi\n",
    "    while phase_diff < -pi:\n",
    "        phase_diff += 2*pi\n",
    "        \n",
    "    phase_diff = simplify(phase_diff)\n",
    "    \n",
    "    return phase_diff"
   ]
  },
  {
   "cell_type": "code",
   "execution_count": 40,
   "metadata": {},
   "outputs": [
    {
     "data": {
      "text/latex": [
       "$\\displaystyle -0.955316618124509$"
      ],
      "text/plain": [
       "-0.955316618124509"
      ]
     },
     "execution_count": 40,
     "metadata": {},
     "output_type": "execute_result"
    }
   ],
   "source": [
    "v1 = f1.subs(theta, pi/8)\n",
    "pd_1 = complex_phase_difference(v1)\n",
    "pd_1"
   ]
  },
  {
   "cell_type": "code",
   "execution_count": 41,
   "metadata": {},
   "outputs": [
    {
     "data": {
      "text/latex": [
       "$\\displaystyle 0.275533837036719$"
      ],
      "text/plain": [
       "0.275533837036719"
      ]
     },
     "execution_count": 41,
     "metadata": {},
     "output_type": "execute_result"
    }
   ],
   "source": [
    "phi_value = pi/16\n",
    "theta_value = 3*pi/16\n",
    "\n",
    "v2 = f2.subs([(phi, phi_value), (theta, theta_value)])\n",
    "pd_2 = complex_phase_difference(v2)\n",
    "pd_2"
   ]
  },
  {
   "cell_type": "code",
   "execution_count": 52,
   "metadata": {},
   "outputs": [
    {
     "name": "stdout",
     "output_type": "stream",
     "text": [
      "Phi: 1.8\n",
      "Theta: 1.8\n",
      "Phase Difference: -3.6780068772428567e-143\n",
      "Phi: 1.8\n",
      "Theta: 3.6\n",
      "Phase Difference: 18.400777570849616\n",
      "Phi: 1.8\n",
      "Theta: 5.4\n",
      "Phase Difference: 26.382205151682847\n",
      "Phi: 1.8\n",
      "Theta: 7.2\n",
      "Phase Difference: 30.51436577700847\n",
      "Phi: 1.8\n",
      "Theta: 9.0\n",
      "Phase Difference: 32.8538118647465\n",
      "Phi: 1.8\n",
      "Theta: 10.8\n",
      "Phase Difference: 34.190666564222056\n",
      "Phi: 1.8\n",
      "Theta: 12.6\n",
      "Phase Difference: 34.883564915772595\n",
      "Phi: 1.8\n",
      "Theta: 14.4\n",
      "Phase Difference: 35.11505525939674\n",
      "Phi: 1.8\n",
      "Theta: 16.2\n",
      "Phase Difference: 34.98532387296466\n",
      "Phi: 1.8\n",
      "Theta: 18.0\n",
      "Phase Difference: 34.55180555270407\n",
      "Phi: 1.8\n",
      "Theta: 19.8\n",
      "Phase Difference: 33.84787298147236\n",
      "Phi: 1.8\n",
      "Theta: 21.6\n",
      "Phase Difference: 32.89249807526656\n",
      "Phi: 1.8\n",
      "Theta: 23.400000000000002\n",
      "Phase Difference: 31.695687610990504\n",
      "Phi: 1.8\n",
      "Theta: 25.2\n",
      "Phase Difference: 30.261833096615764\n",
      "Phi: 1.8\n",
      "Theta: 27.0\n",
      "Phase Difference: 28.59201275666095\n",
      "Phi: 1.8\n",
      "Theta: 28.8\n",
      "Phase Difference: 26.685786590150222\n",
      "Phi: 1.8\n",
      "Theta: 30.599999999999998\n",
      "Phase Difference: 24.542779498814028\n",
      "Phi: 1.8\n",
      "Theta: 32.4\n",
      "Phase Difference: 22.16420768723772\n",
      "Phi: 1.8\n",
      "Theta: 34.2\n",
      "Phase Difference: 19.554405417807107\n",
      "Phi: 1.8\n",
      "Theta: 36.0\n",
      "Phase Difference: 16.722323436445304\n",
      "Phi: 1.8\n",
      "Theta: 37.800000000000004\n",
      "Phase Difference: 13.682887589398\n",
      "Phi: 1.8\n",
      "Theta: 39.6\n",
      "Phase Difference: 10.458032702899636\n",
      "Phi: 1.8\n",
      "Theta: 41.4\n",
      "Phase Difference: 7.077182681349183\n",
      "Phi: 1.8\n",
      "Theta: 43.2\n",
      "Phase Difference: 3.5769602849439264\n",
      "Phi: 1.8\n",
      "Theta: 45.0\n",
      "Phase Difference: 6.771337051310785e-124\n",
      "Phi: 1.8\n",
      "Theta: 46.800000000000004\n",
      "Phase Difference: -3.6070990491068704\n",
      "Phi: 1.8\n",
      "Theta: 48.6\n",
      "Phase Difference: -7.19644624224436\n",
      "Phi: 1.8\n",
      "Theta: 50.4\n",
      "Phase Difference: -10.721762574251349\n",
      "Phi: 1.8\n",
      "Theta: 52.2\n",
      "Phase Difference: -14.14105588834186\n",
      "Phi: 1.8\n",
      "Theta: 54.0\n",
      "Phase Difference: -17.418675927931748\n",
      "Phi: 1.8\n",
      "Theta: 55.800000000000004\n",
      "Phase Difference: -20.526521866933777\n",
      "Phi: 1.8\n",
      "Theta: 57.6\n",
      "Phase Difference: -23.444373425136497\n",
      "Phi: 1.8\n",
      "Theta: 59.400000000000006\n",
      "Phase Difference: -26.159481028952\n",
      "Phi: 1.8\n",
      "Theta: 61.199999999999996\n",
      "Phase Difference: -28.665641786112474\n",
      "Phi: 1.8\n",
      "Theta: 63.0\n",
      "Phase Difference: -30.962003828424034\n",
      "Phi: 1.8\n",
      "Theta: 64.8\n",
      "Phase Difference: -33.051804130245\n",
      "Phi: 1.8\n",
      "Theta: 66.60000000000001\n",
      "Phase Difference: -34.9411834683878\n",
      "Phi: 1.8\n",
      "Theta: 68.4\n",
      "Phase Difference: -36.63816011512272\n",
      "Phi: 1.8\n",
      "Theta: 70.2\n",
      "Phase Difference: -38.151794099380325\n",
      "Phi: 1.8\n",
      "Theta: 72.0\n",
      "Phase Difference: -39.49154033348962\n",
      "Phi: 1.8\n",
      "Theta: 73.8\n",
      "Phase Difference: -40.66677000501839\n",
      "Phi: 1.8\n",
      "Theta: 75.60000000000001\n",
      "Phase Difference: -41.686431586736965\n",
      "Phi: 1.8\n",
      "Theta: 77.4\n",
      "Phase Difference: -42.55882168814623\n",
      "Phi: 1.8\n",
      "Theta: 79.2\n",
      "Phase Difference: -43.29143861239418\n",
      "Phi: 1.8\n",
      "Theta: 81.0\n",
      "Phase Difference: -43.89089574113789\n",
      "Phi: 1.8\n",
      "Theta: 82.8\n",
      "Phase Difference: -44.36287645400774\n",
      "Phi: 1.8\n",
      "Theta: 84.60000000000001\n",
      "Phase Difference: -44.712116525157754\n",
      "Phi: 1.8\n",
      "Theta: 86.4\n",
      "Phase Difference: -44.94240354881245\n",
      "Phi: 1.8\n",
      "Theta: 88.2\n",
      "Phase Difference: -45.05658587771922\n",
      "Phi: 1.8\n",
      "Theta: 90.0\n",
      "Phase Difference: -45.05658587771922\n"
     ]
    },
    {
     "ename": "TypeError",
     "evalue": "Invalid comparison of non-real -1.5707963267949 + 168.434764876067*I",
     "output_type": "error",
     "traceback": [
      "\u001b[1;31m---------------------------------------------------------------------------\u001b[0m",
      "\u001b[1;31mTypeError\u001b[0m                                 Traceback (most recent call last)",
      "Cell \u001b[1;32mIn[52], line 7\u001b[0m\n\u001b[0;32m      5\u001b[0m \u001b[38;5;28;01mfor\u001b[39;00m theta_value \u001b[38;5;129;01min\u001b[39;00m theta_values:\n\u001b[0;32m      6\u001b[0m     v2 \u001b[38;5;241m=\u001b[39m f2\u001b[38;5;241m.\u001b[39msubs([(phi, phi_value), (theta, theta_value)])\n\u001b[1;32m----> 7\u001b[0m     pd_2 \u001b[38;5;241m=\u001b[39m \u001b[43mcomplex_phase_difference\u001b[49m\u001b[43m(\u001b[49m\u001b[43mv2\u001b[49m\u001b[43m)\u001b[49m\n\u001b[0;32m      8\u001b[0m     \u001b[38;5;28mprint\u001b[39m(\u001b[38;5;124m\"\u001b[39m\u001b[38;5;124mPhi:\u001b[39m\u001b[38;5;124m\"\u001b[39m, math\u001b[38;5;241m.\u001b[39mdegrees(phi_value))\n\u001b[0;32m      9\u001b[0m     \u001b[38;5;28mprint\u001b[39m(\u001b[38;5;124m\"\u001b[39m\u001b[38;5;124mTheta:\u001b[39m\u001b[38;5;124m\"\u001b[39m, math\u001b[38;5;241m.\u001b[39mdegrees(theta_value))\n",
      "Cell \u001b[1;32mIn[39], line 23\u001b[0m, in \u001b[0;36mcomplex_phase_difference\u001b[1;34m(vector)\u001b[0m\n\u001b[0;32m     21\u001b[0m \u001b[38;5;66;03m# Handling phase difference to be within the range [-pi, pi)\u001b[39;00m\n\u001b[0;32m     22\u001b[0m phase_diff \u001b[38;5;241m=\u001b[39m phase_diff\u001b[38;5;241m.\u001b[39mrewrite(pi)\u001b[38;5;241m.\u001b[39mevalf()\n\u001b[1;32m---> 23\u001b[0m \u001b[38;5;28;01mwhile\u001b[39;00m \u001b[43mphase_diff\u001b[49m\u001b[43m \u001b[49m\u001b[38;5;241;43m>\u001b[39;49m\u001b[38;5;241;43m=\u001b[39;49m\u001b[43m \u001b[49m\u001b[43mpi\u001b[49m:\n\u001b[0;32m     24\u001b[0m     phase_diff \u001b[38;5;241m-\u001b[39m\u001b[38;5;241m=\u001b[39m \u001b[38;5;241m2\u001b[39m\u001b[38;5;241m*\u001b[39mpi\n\u001b[0;32m     25\u001b[0m \u001b[38;5;28;01mwhile\u001b[39;00m phase_diff \u001b[38;5;241m<\u001b[39m \u001b[38;5;241m-\u001b[39mpi:\n",
      "File \u001b[1;32mc:\\Users\\hp\\anaconda3\\envs\\QmSolve\\lib\\site-packages\\sympy\\core\\decorators.py:236\u001b[0m, in \u001b[0;36m_SympifyWrapper.make_wrapped.<locals>._func\u001b[1;34m(self, other)\u001b[0m\n\u001b[0;32m    234\u001b[0m \u001b[38;5;28;01mif\u001b[39;00m \u001b[38;5;129;01mnot\u001b[39;00m \u001b[38;5;28misinstance\u001b[39m(other, expectedcls):\n\u001b[0;32m    235\u001b[0m     \u001b[38;5;28;01mreturn\u001b[39;00m retval\n\u001b[1;32m--> 236\u001b[0m \u001b[38;5;28;01mreturn\u001b[39;00m \u001b[43mfunc\u001b[49m\u001b[43m(\u001b[49m\u001b[38;5;28;43mself\u001b[39;49m\u001b[43m,\u001b[49m\u001b[43m \u001b[49m\u001b[43mother\u001b[49m\u001b[43m)\u001b[49m\n",
      "File \u001b[1;32mc:\\Users\\hp\\anaconda3\\envs\\QmSolve\\lib\\site-packages\\sympy\\core\\expr.py:361\u001b[0m, in \u001b[0;36mExpr.__ge__\u001b[1;34m(self, other)\u001b[0m\n\u001b[0;32m    358\u001b[0m \u001b[38;5;129m@sympify_return\u001b[39m([(\u001b[38;5;124m'\u001b[39m\u001b[38;5;124mother\u001b[39m\u001b[38;5;124m'\u001b[39m, \u001b[38;5;124m'\u001b[39m\u001b[38;5;124mExpr\u001b[39m\u001b[38;5;124m'\u001b[39m)], \u001b[38;5;28mNotImplemented\u001b[39m)\n\u001b[0;32m    359\u001b[0m \u001b[38;5;28;01mdef\u001b[39;00m \u001b[38;5;21m__ge__\u001b[39m(\u001b[38;5;28mself\u001b[39m, other):\n\u001b[0;32m    360\u001b[0m     \u001b[38;5;28;01mfrom\u001b[39;00m \u001b[38;5;21;01m.\u001b[39;00m\u001b[38;5;21;01mrelational\u001b[39;00m \u001b[38;5;28;01mimport\u001b[39;00m GreaterThan\n\u001b[1;32m--> 361\u001b[0m     \u001b[38;5;28;01mreturn\u001b[39;00m \u001b[43mGreaterThan\u001b[49m\u001b[43m(\u001b[49m\u001b[38;5;28;43mself\u001b[39;49m\u001b[43m,\u001b[49m\u001b[43m \u001b[49m\u001b[43mother\u001b[49m\u001b[43m)\u001b[49m\n",
      "File \u001b[1;32mc:\\Users\\hp\\anaconda3\\envs\\QmSolve\\lib\\site-packages\\sympy\\core\\relational.py:822\u001b[0m, in \u001b[0;36m_Inequality.__new__\u001b[1;34m(cls, lhs, rhs, **options)\u001b[0m\n\u001b[0;32m    820\u001b[0m \u001b[38;5;28;01mfor\u001b[39;00m me \u001b[38;5;129;01min\u001b[39;00m (lhs, rhs):\n\u001b[0;32m    821\u001b[0m     \u001b[38;5;28;01mif\u001b[39;00m me\u001b[38;5;241m.\u001b[39mis_extended_real \u001b[38;5;129;01mis\u001b[39;00m \u001b[38;5;28;01mFalse\u001b[39;00m:\n\u001b[1;32m--> 822\u001b[0m         \u001b[38;5;28;01mraise\u001b[39;00m \u001b[38;5;167;01mTypeError\u001b[39;00m(\u001b[38;5;124m\"\u001b[39m\u001b[38;5;124mInvalid comparison of non-real \u001b[39m\u001b[38;5;132;01m%s\u001b[39;00m\u001b[38;5;124m\"\u001b[39m \u001b[38;5;241m%\u001b[39m me)\n\u001b[0;32m    823\u001b[0m     \u001b[38;5;28;01mif\u001b[39;00m me \u001b[38;5;129;01mis\u001b[39;00m S\u001b[38;5;241m.\u001b[39mNaN:\n\u001b[0;32m    824\u001b[0m         \u001b[38;5;28;01mraise\u001b[39;00m \u001b[38;5;167;01mTypeError\u001b[39;00m(\u001b[38;5;124m\"\u001b[39m\u001b[38;5;124mInvalid NaN comparison\u001b[39m\u001b[38;5;124m\"\u001b[39m)\n",
      "\u001b[1;31mTypeError\u001b[0m: Invalid comparison of non-real -1.5707963267949 + 168.434764876067*I"
     ]
    }
   ],
   "source": [
    "phi_values = [pi*i/100 for i in range(1,101)]  # Values from 0 to pi\n",
    "theta_values = [pi*i/100 for i in range(1,101)]  # Values from 0 to pi\n",
    "\n",
    "for phi_value in phi_values:\n",
    "    for theta_value in theta_values:\n",
    "        v2 = f2.subs([(phi, phi_value), (theta, theta_value)])\n",
    "        pd_2 = complex_phase_difference(v2)\n",
    "        print(\"Phi:\", math.degrees(phi_value))\n",
    "        print(\"Theta:\", math.degrees(theta_value))\n",
    "        print(\"Phase Difference:\", math.degrees(pd_2))\n",
    "        if abs(pd_2 - pi/2) < 0.00001:  # Tolerance for comparison\n",
    "            print(\"Tolerance is reached\")\n",
    "            print(\"Phi:\", math.degrees(phi_value))\n",
    "            print(\"Theta:\", math.degrees(theta_value))\n",
    "            print(\"Phase Difference:\", math.degrees(pd_2))"
   ]
  },
  {
   "cell_type": "code",
   "execution_count": null,
   "metadata": {},
   "outputs": [
    {
     "data": {
      "text/latex": [
       "$\\displaystyle \\left[\\begin{matrix}\\sqrt{2} \\left(\\frac{\\sqrt{2 \\sqrt{5} + 10} \\cdot \\left(2 \\sqrt{5} + 10 + \\left(2 - 2 i\\right) \\sqrt{10 - 2 \\sqrt{5}} + i \\left(1 - \\sqrt{5}\\right)^{2}\\right)}{128} - \\frac{\\left(1 - \\sqrt{5}\\right) \\left(\\left(1 - \\sqrt{5}\\right)^{2} + \\left(2 - 2 i\\right) \\sqrt{10 - 2 \\sqrt{5}} + i \\left(2 \\sqrt{5} + 10\\right)\\right)}{128}\\right)\\\\\\frac{\\left(1 - i\\right) \\left(- 2 \\sqrt{10} - \\sqrt{5 - \\sqrt{5}} + \\sqrt{25 - 5 \\sqrt{5}} + \\sqrt{5 \\sqrt{5} + 25} + \\left(1 - 4 i\\right) \\sqrt{\\sqrt{5} + 5} + \\sqrt{2} \\cdot \\left(2 - 2 i\\right) + 2 \\sqrt{10} i\\right)}{32}\\end{matrix}\\right]$"
      ],
      "text/plain": [
       "Matrix([\n",
       "[sqrt(2)*(sqrt(2*sqrt(5) + 10)*(2*sqrt(5) + 10 + (2 - 2*I)*sqrt(10 - 2*sqrt(5)) + I*(1 - sqrt(5))**2)/128 - (1 - sqrt(5))*((1 - sqrt(5))**2 + (2 - 2*I)*sqrt(10 - 2*sqrt(5)) + I*(2*sqrt(5) + 10))/128)],\n",
       "[                                           (1 - I)*(-2*sqrt(10) - sqrt(5 - sqrt(5)) + sqrt(25 - 5*sqrt(5)) + sqrt(5*sqrt(5) + 25) + (1 - 4*I)*sqrt(sqrt(5) + 5) + sqrt(2)*(2 - 2*I) + 2*sqrt(10)*I)/32]])"
      ]
     },
     "execution_count": 21,
     "metadata": {},
     "output_type": "execute_result"
    }
   ],
   "source": [
    "phi_value = pi/20\n",
    "theta_value = pi/10\n",
    "\n",
    "v3_eval = f3.subs([(phi, phi_value), (theta, theta_value)])\n",
    "v3_eval.simplify()\n",
    "v3_eval"
   ]
  },
  {
   "cell_type": "code",
   "execution_count": null,
   "metadata": {},
   "outputs": [
    {
     "data": {
      "text/latex": [
       "$\\displaystyle -1.5707963267949$"
      ],
      "text/plain": [
       "-1.57079632679490"
      ]
     },
     "execution_count": 22,
     "metadata": {},
     "output_type": "execute_result"
    }
   ],
   "source": [
    "pd = complex_phase_difference(v3_eval)\n",
    "pd"
   ]
  },
  {
   "cell_type": "code",
   "execution_count": null,
   "metadata": {},
   "outputs": [
    {
     "name": "stdout",
     "output_type": "stream",
     "text": [
      "Phi: 0\n",
      "Theta: pi/4\n",
      "Phase Difference: 1.57079632679490\n",
      "Phi: 0\n",
      "Theta: 3*pi/4\n",
      "Phase Difference: 1.57079632679490\n"
     ]
    },
    {
     "ename": "KeyboardInterrupt",
     "evalue": "",
     "output_type": "error",
     "traceback": [
      "\u001b[1;31m---------------------------------------------------------------------------\u001b[0m",
      "\u001b[1;31mKeyboardInterrupt\u001b[0m                         Traceback (most recent call last)",
      "Cell \u001b[1;32mIn[21], line 7\u001b[0m\n\u001b[0;32m      5\u001b[0m \u001b[38;5;28;01mfor\u001b[39;00m theta_value \u001b[38;5;129;01min\u001b[39;00m theta_values:\n\u001b[0;32m      6\u001b[0m     v2 \u001b[38;5;241m=\u001b[39m f2\u001b[38;5;241m.\u001b[39msubs([(phi, phi_value), (theta, theta_value)])\n\u001b[1;32m----> 7\u001b[0m     pd_2 \u001b[38;5;241m=\u001b[39m \u001b[43mcomplex_phase_difference\u001b[49m\u001b[43m(\u001b[49m\u001b[43mv2\u001b[49m\u001b[43m)\u001b[49m\n\u001b[0;32m      8\u001b[0m     \u001b[38;5;28;01mif\u001b[39;00m \u001b[38;5;28mabs\u001b[39m(pd_2 \u001b[38;5;241m-\u001b[39m pi\u001b[38;5;241m/\u001b[39m\u001b[38;5;241m2\u001b[39m) \u001b[38;5;241m<\u001b[39m \u001b[38;5;241m0.001\u001b[39m:  \u001b[38;5;66;03m# Tolerance for comparison\u001b[39;00m\n\u001b[0;32m      9\u001b[0m         \u001b[38;5;28mprint\u001b[39m(\u001b[38;5;124m\"\u001b[39m\u001b[38;5;124mPhi:\u001b[39m\u001b[38;5;124m\"\u001b[39m, phi_value)\n",
      "Cell \u001b[1;32mIn[18], line 22\u001b[0m, in \u001b[0;36mcomplex_phase_difference\u001b[1;34m(vector)\u001b[0m\n\u001b[0;32m     19\u001b[0m phase_diff \u001b[38;5;241m=\u001b[39m phase2 \u001b[38;5;241m-\u001b[39m phase1\n\u001b[0;32m     21\u001b[0m \u001b[38;5;66;03m# Handling phase difference to be within the range [-pi, pi)\u001b[39;00m\n\u001b[1;32m---> 22\u001b[0m phase_diff \u001b[38;5;241m=\u001b[39m \u001b[43mphase_diff\u001b[49m\u001b[38;5;241;43m.\u001b[39;49m\u001b[43mrewrite\u001b[49m\u001b[43m(\u001b[49m\u001b[43mpi\u001b[49m\u001b[43m)\u001b[49m\u001b[38;5;241;43m.\u001b[39;49m\u001b[43mevalf\u001b[49m\u001b[43m(\u001b[49m\u001b[43m)\u001b[49m\n\u001b[0;32m     23\u001b[0m \u001b[38;5;28;01mwhile\u001b[39;00m phase_diff \u001b[38;5;241m>\u001b[39m\u001b[38;5;241m=\u001b[39m pi:\n\u001b[0;32m     24\u001b[0m     phase_diff \u001b[38;5;241m-\u001b[39m\u001b[38;5;241m=\u001b[39m \u001b[38;5;241m2\u001b[39m\u001b[38;5;241m*\u001b[39mpi\n",
      "File \u001b[1;32mc:\\Users\\hp\\anaconda3\\envs\\Qmsolve\\lib\\site-packages\\sympy\\core\\evalf.py:1647\u001b[0m, in \u001b[0;36mEvalfMixin.evalf\u001b[1;34m(self, n, subs, maxn, chop, strict, quad, verbose)\u001b[0m\n\u001b[0;32m   1645\u001b[0m     options[\u001b[38;5;124m'\u001b[39m\u001b[38;5;124mquad\u001b[39m\u001b[38;5;124m'\u001b[39m] \u001b[38;5;241m=\u001b[39m quad\n\u001b[0;32m   1646\u001b[0m \u001b[38;5;28;01mtry\u001b[39;00m:\n\u001b[1;32m-> 1647\u001b[0m     result \u001b[38;5;241m=\u001b[39m \u001b[43mevalf\u001b[49m\u001b[43m(\u001b[49m\u001b[38;5;28;43mself\u001b[39;49m\u001b[43m,\u001b[49m\u001b[43m \u001b[49m\u001b[43mprec\u001b[49m\u001b[43m \u001b[49m\u001b[38;5;241;43m+\u001b[39;49m\u001b[43m \u001b[49m\u001b[38;5;241;43m4\u001b[39;49m\u001b[43m,\u001b[49m\u001b[43m \u001b[49m\u001b[43moptions\u001b[49m\u001b[43m)\u001b[49m\n\u001b[0;32m   1648\u001b[0m \u001b[38;5;28;01mexcept\u001b[39;00m \u001b[38;5;167;01mNotImplementedError\u001b[39;00m:\n\u001b[0;32m   1649\u001b[0m     \u001b[38;5;66;03m# Fall back to the ordinary evalf\u001b[39;00m\n\u001b[0;32m   1650\u001b[0m     \u001b[38;5;28;01mif\u001b[39;00m \u001b[38;5;28mhasattr\u001b[39m(\u001b[38;5;28mself\u001b[39m, \u001b[38;5;124m'\u001b[39m\u001b[38;5;124msubs\u001b[39m\u001b[38;5;124m'\u001b[39m) \u001b[38;5;129;01mand\u001b[39;00m subs \u001b[38;5;129;01mis\u001b[39;00m \u001b[38;5;129;01mnot\u001b[39;00m \u001b[38;5;28;01mNone\u001b[39;00m:  \u001b[38;5;66;03m# issue 20291\u001b[39;00m\n",
      "File \u001b[1;32mc:\\Users\\hp\\anaconda3\\envs\\Qmsolve\\lib\\site-packages\\sympy\\core\\evalf.py:1482\u001b[0m, in \u001b[0;36mevalf\u001b[1;34m(x, prec, options)\u001b[0m\n\u001b[0;32m   1480\u001b[0m \u001b[38;5;28;01mtry\u001b[39;00m:\n\u001b[0;32m   1481\u001b[0m     rf \u001b[38;5;241m=\u001b[39m evalf_table[\u001b[38;5;28mtype\u001b[39m(x)]\n\u001b[1;32m-> 1482\u001b[0m     r \u001b[38;5;241m=\u001b[39m \u001b[43mrf\u001b[49m\u001b[43m(\u001b[49m\u001b[43mx\u001b[49m\u001b[43m,\u001b[49m\u001b[43m \u001b[49m\u001b[43mprec\u001b[49m\u001b[43m,\u001b[49m\u001b[43m \u001b[49m\u001b[43moptions\u001b[49m\u001b[43m)\u001b[49m\n\u001b[0;32m   1483\u001b[0m \u001b[38;5;28;01mexcept\u001b[39;00m \u001b[38;5;167;01mKeyError\u001b[39;00m:\n\u001b[0;32m   1484\u001b[0m     \u001b[38;5;66;03m# Fall back to ordinary evalf if possible\u001b[39;00m\n\u001b[0;32m   1485\u001b[0m     \u001b[38;5;28;01mif\u001b[39;00m \u001b[38;5;124m'\u001b[39m\u001b[38;5;124msubs\u001b[39m\u001b[38;5;124m'\u001b[39m \u001b[38;5;129;01min\u001b[39;00m options:\n",
      "File \u001b[1;32mc:\\Users\\hp\\anaconda3\\envs\\Qmsolve\\lib\\site-packages\\sympy\\core\\evalf.py:600\u001b[0m, in \u001b[0;36mevalf_add\u001b[1;34m(v, prec, options)\u001b[0m\n\u001b[0;32m    597\u001b[0m \u001b[38;5;28;01mwhile\u001b[39;00m \u001b[38;5;241m1\u001b[39m:\n\u001b[0;32m    598\u001b[0m     options[\u001b[38;5;124m'\u001b[39m\u001b[38;5;124mmaxprec\u001b[39m\u001b[38;5;124m'\u001b[39m] \u001b[38;5;241m=\u001b[39m \u001b[38;5;28mmin\u001b[39m(oldmaxprec, \u001b[38;5;241m2\u001b[39m\u001b[38;5;241m*\u001b[39mprec)\n\u001b[1;32m--> 600\u001b[0m     terms \u001b[38;5;241m=\u001b[39m [evalf(arg, prec \u001b[38;5;241m+\u001b[39m \u001b[38;5;241m10\u001b[39m, options) \u001b[38;5;28;01mfor\u001b[39;00m arg \u001b[38;5;129;01min\u001b[39;00m v\u001b[38;5;241m.\u001b[39margs]\n\u001b[0;32m    601\u001b[0m     n \u001b[38;5;241m=\u001b[39m terms\u001b[38;5;241m.\u001b[39mcount(S\u001b[38;5;241m.\u001b[39mComplexInfinity)\n\u001b[0;32m    602\u001b[0m     \u001b[38;5;28;01mif\u001b[39;00m n \u001b[38;5;241m>\u001b[39m\u001b[38;5;241m=\u001b[39m \u001b[38;5;241m2\u001b[39m:\n",
      "File \u001b[1;32mc:\\Users\\hp\\anaconda3\\envs\\Qmsolve\\lib\\site-packages\\sympy\\core\\evalf.py:600\u001b[0m, in \u001b[0;36m<listcomp>\u001b[1;34m(.0)\u001b[0m\n\u001b[0;32m    597\u001b[0m \u001b[38;5;28;01mwhile\u001b[39;00m \u001b[38;5;241m1\u001b[39m:\n\u001b[0;32m    598\u001b[0m     options[\u001b[38;5;124m'\u001b[39m\u001b[38;5;124mmaxprec\u001b[39m\u001b[38;5;124m'\u001b[39m] \u001b[38;5;241m=\u001b[39m \u001b[38;5;28mmin\u001b[39m(oldmaxprec, \u001b[38;5;241m2\u001b[39m\u001b[38;5;241m*\u001b[39mprec)\n\u001b[1;32m--> 600\u001b[0m     terms \u001b[38;5;241m=\u001b[39m [\u001b[43mevalf\u001b[49m\u001b[43m(\u001b[49m\u001b[43marg\u001b[49m\u001b[43m,\u001b[49m\u001b[43m \u001b[49m\u001b[43mprec\u001b[49m\u001b[43m \u001b[49m\u001b[38;5;241;43m+\u001b[39;49m\u001b[43m \u001b[49m\u001b[38;5;241;43m10\u001b[39;49m\u001b[43m,\u001b[49m\u001b[43m \u001b[49m\u001b[43moptions\u001b[49m\u001b[43m)\u001b[49m \u001b[38;5;28;01mfor\u001b[39;00m arg \u001b[38;5;129;01min\u001b[39;00m v\u001b[38;5;241m.\u001b[39margs]\n\u001b[0;32m    601\u001b[0m     n \u001b[38;5;241m=\u001b[39m terms\u001b[38;5;241m.\u001b[39mcount(S\u001b[38;5;241m.\u001b[39mComplexInfinity)\n\u001b[0;32m    602\u001b[0m     \u001b[38;5;28;01mif\u001b[39;00m n \u001b[38;5;241m>\u001b[39m\u001b[38;5;241m=\u001b[39m \u001b[38;5;241m2\u001b[39m:\n",
      "File \u001b[1;32mc:\\Users\\hp\\anaconda3\\envs\\Qmsolve\\lib\\site-packages\\sympy\\core\\evalf.py:1482\u001b[0m, in \u001b[0;36mevalf\u001b[1;34m(x, prec, options)\u001b[0m\n\u001b[0;32m   1480\u001b[0m \u001b[38;5;28;01mtry\u001b[39;00m:\n\u001b[0;32m   1481\u001b[0m     rf \u001b[38;5;241m=\u001b[39m evalf_table[\u001b[38;5;28mtype\u001b[39m(x)]\n\u001b[1;32m-> 1482\u001b[0m     r \u001b[38;5;241m=\u001b[39m \u001b[43mrf\u001b[49m\u001b[43m(\u001b[49m\u001b[43mx\u001b[49m\u001b[43m,\u001b[49m\u001b[43m \u001b[49m\u001b[43mprec\u001b[49m\u001b[43m,\u001b[49m\u001b[43m \u001b[49m\u001b[43moptions\u001b[49m\u001b[43m)\u001b[49m\n\u001b[0;32m   1483\u001b[0m \u001b[38;5;28;01mexcept\u001b[39;00m \u001b[38;5;167;01mKeyError\u001b[39;00m:\n\u001b[0;32m   1484\u001b[0m     \u001b[38;5;66;03m# Fall back to ordinary evalf if possible\u001b[39;00m\n\u001b[0;32m   1485\u001b[0m     \u001b[38;5;28;01mif\u001b[39;00m \u001b[38;5;124m'\u001b[39m\u001b[38;5;124msubs\u001b[39m\u001b[38;5;124m'\u001b[39m \u001b[38;5;129;01min\u001b[39;00m options:\n",
      "File \u001b[1;32mc:\\Users\\hp\\anaconda3\\envs\\Qmsolve\\lib\\site-packages\\sympy\\core\\evalf.py:696\u001b[0m, in \u001b[0;36mevalf_mul\u001b[1;34m(v, prec, options)\u001b[0m\n\u001b[0;32m    694\u001b[0m \u001b[38;5;28;01melif\u001b[39;00m i \u001b[38;5;241m==\u001b[39m last \u001b[38;5;129;01mand\u001b[39;00m arg \u001b[38;5;129;01mis\u001b[39;00m S\u001b[38;5;241m.\u001b[39mOne:\n\u001b[0;32m    695\u001b[0m     \u001b[38;5;28;01mcontinue\u001b[39;00m\n\u001b[1;32m--> 696\u001b[0m re, im, re_acc, im_acc \u001b[38;5;241m=\u001b[39m \u001b[43mevalf\u001b[49m\u001b[43m(\u001b[49m\u001b[43marg\u001b[49m\u001b[43m,\u001b[49m\u001b[43m \u001b[49m\u001b[43mworking_prec\u001b[49m\u001b[43m,\u001b[49m\u001b[43m \u001b[49m\u001b[43moptions\u001b[49m\u001b[43m)\u001b[49m\n\u001b[0;32m    697\u001b[0m \u001b[38;5;28;01mif\u001b[39;00m re \u001b[38;5;129;01mand\u001b[39;00m im:\n\u001b[0;32m    698\u001b[0m     complex_factors\u001b[38;5;241m.\u001b[39mappend((re, im, re_acc, im_acc))\n",
      "File \u001b[1;32mc:\\Users\\hp\\anaconda3\\envs\\Qmsolve\\lib\\site-packages\\sympy\\core\\evalf.py:1482\u001b[0m, in \u001b[0;36mevalf\u001b[1;34m(x, prec, options)\u001b[0m\n\u001b[0;32m   1480\u001b[0m \u001b[38;5;28;01mtry\u001b[39;00m:\n\u001b[0;32m   1481\u001b[0m     rf \u001b[38;5;241m=\u001b[39m evalf_table[\u001b[38;5;28mtype\u001b[39m(x)]\n\u001b[1;32m-> 1482\u001b[0m     r \u001b[38;5;241m=\u001b[39m \u001b[43mrf\u001b[49m\u001b[43m(\u001b[49m\u001b[43mx\u001b[49m\u001b[43m,\u001b[49m\u001b[43m \u001b[49m\u001b[43mprec\u001b[49m\u001b[43m,\u001b[49m\u001b[43m \u001b[49m\u001b[43moptions\u001b[49m\u001b[43m)\u001b[49m\n\u001b[0;32m   1483\u001b[0m \u001b[38;5;28;01mexcept\u001b[39;00m \u001b[38;5;167;01mKeyError\u001b[39;00m:\n\u001b[0;32m   1484\u001b[0m     \u001b[38;5;66;03m# Fall back to ordinary evalf if possible\u001b[39;00m\n\u001b[0;32m   1485\u001b[0m     \u001b[38;5;28;01mif\u001b[39;00m \u001b[38;5;124m'\u001b[39m\u001b[38;5;124msubs\u001b[39m\u001b[38;5;124m'\u001b[39m \u001b[38;5;129;01min\u001b[39;00m options:\n",
      "File \u001b[1;32mc:\\Users\\hp\\anaconda3\\envs\\Qmsolve\\lib\\site-packages\\sympy\\core\\evalf.py:983\u001b[0m, in \u001b[0;36mevalf_log\u001b[1;34m(expr, prec, options)\u001b[0m\n\u001b[0;32m    980\u001b[0m \u001b[38;5;28;01mfrom\u001b[39;00m \u001b[38;5;21;01msympy\u001b[39;00m\u001b[38;5;21;01m.\u001b[39;00m\u001b[38;5;21;01mfunctions\u001b[39;00m\u001b[38;5;21;01m.\u001b[39;00m\u001b[38;5;21;01melementary\u001b[39;00m\u001b[38;5;21;01m.\u001b[39;00m\u001b[38;5;21;01mexponential\u001b[39;00m \u001b[38;5;28;01mimport\u001b[39;00m log\n\u001b[0;32m    982\u001b[0m \u001b[38;5;66;03m# XXX: use get_abs etc instead\u001b[39;00m\n\u001b[1;32m--> 983\u001b[0m re \u001b[38;5;241m=\u001b[39m \u001b[43mevalf_log\u001b[49m\u001b[43m(\u001b[49m\n\u001b[0;32m    984\u001b[0m \u001b[43m    \u001b[49m\u001b[43mlog\u001b[49m\u001b[43m(\u001b[49m\u001b[43mAbs\u001b[49m\u001b[43m(\u001b[49m\u001b[43marg\u001b[49m\u001b[43m,\u001b[49m\u001b[43m \u001b[49m\u001b[43mevaluate\u001b[49m\u001b[38;5;241;43m=\u001b[39;49m\u001b[38;5;28;43;01mFalse\u001b[39;49;00m\u001b[43m)\u001b[49m\u001b[43m,\u001b[49m\u001b[43m \u001b[49m\u001b[43mevaluate\u001b[49m\u001b[38;5;241;43m=\u001b[39;49m\u001b[38;5;28;43;01mFalse\u001b[39;49;00m\u001b[43m)\u001b[49m\u001b[43m,\u001b[49m\u001b[43m \u001b[49m\u001b[43mprec\u001b[49m\u001b[43m,\u001b[49m\u001b[43m \u001b[49m\u001b[43moptions\u001b[49m\u001b[43m)\u001b[49m\n\u001b[0;32m    985\u001b[0m im \u001b[38;5;241m=\u001b[39m mpf_atan2(xim, xre \u001b[38;5;129;01mor\u001b[39;00m fzero, prec)\n\u001b[0;32m    986\u001b[0m \u001b[38;5;28;01mreturn\u001b[39;00m re[\u001b[38;5;241m0\u001b[39m], im, re[\u001b[38;5;241m2\u001b[39m], prec\n",
      "File \u001b[1;32mc:\\Users\\hp\\anaconda3\\envs\\Qmsolve\\lib\\site-packages\\sympy\\core\\evalf.py:962\u001b[0m, in \u001b[0;36mevalf_log\u001b[1;34m(expr, prec, options)\u001b[0m\n\u001b[0;32m    960\u001b[0m arg \u001b[38;5;241m=\u001b[39m expr\u001b[38;5;241m.\u001b[39margs[\u001b[38;5;241m0\u001b[39m]\n\u001b[0;32m    961\u001b[0m workprec \u001b[38;5;241m=\u001b[39m prec \u001b[38;5;241m+\u001b[39m \u001b[38;5;241m10\u001b[39m\n\u001b[1;32m--> 962\u001b[0m result \u001b[38;5;241m=\u001b[39m \u001b[43mevalf\u001b[49m\u001b[43m(\u001b[49m\u001b[43marg\u001b[49m\u001b[43m,\u001b[49m\u001b[43m \u001b[49m\u001b[43mworkprec\u001b[49m\u001b[43m,\u001b[49m\u001b[43m \u001b[49m\u001b[43moptions\u001b[49m\u001b[43m)\u001b[49m\n\u001b[0;32m    963\u001b[0m \u001b[38;5;28;01mif\u001b[39;00m result \u001b[38;5;129;01mis\u001b[39;00m S\u001b[38;5;241m.\u001b[39mComplexInfinity:\n\u001b[0;32m    964\u001b[0m     \u001b[38;5;28;01mreturn\u001b[39;00m result\n",
      "File \u001b[1;32mc:\\Users\\hp\\anaconda3\\envs\\Qmsolve\\lib\\site-packages\\sympy\\core\\evalf.py:1482\u001b[0m, in \u001b[0;36mevalf\u001b[1;34m(x, prec, options)\u001b[0m\n\u001b[0;32m   1480\u001b[0m \u001b[38;5;28;01mtry\u001b[39;00m:\n\u001b[0;32m   1481\u001b[0m     rf \u001b[38;5;241m=\u001b[39m evalf_table[\u001b[38;5;28mtype\u001b[39m(x)]\n\u001b[1;32m-> 1482\u001b[0m     r \u001b[38;5;241m=\u001b[39m \u001b[43mrf\u001b[49m\u001b[43m(\u001b[49m\u001b[43mx\u001b[49m\u001b[43m,\u001b[49m\u001b[43m \u001b[49m\u001b[43mprec\u001b[49m\u001b[43m,\u001b[49m\u001b[43m \u001b[49m\u001b[43moptions\u001b[49m\u001b[43m)\u001b[49m\n\u001b[0;32m   1483\u001b[0m \u001b[38;5;28;01mexcept\u001b[39;00m \u001b[38;5;167;01mKeyError\u001b[39;00m:\n\u001b[0;32m   1484\u001b[0m     \u001b[38;5;66;03m# Fall back to ordinary evalf if possible\u001b[39;00m\n\u001b[0;32m   1485\u001b[0m     \u001b[38;5;28;01mif\u001b[39;00m \u001b[38;5;124m'\u001b[39m\u001b[38;5;124msubs\u001b[39m\u001b[38;5;124m'\u001b[39m \u001b[38;5;129;01min\u001b[39;00m options:\n",
      "File \u001b[1;32mc:\\Users\\hp\\anaconda3\\envs\\Qmsolve\\lib\\site-packages\\sympy\\core\\evalf.py:303\u001b[0m, in \u001b[0;36mevalf_abs\u001b[1;34m(expr, prec, options)\u001b[0m\n\u001b[0;32m    302\u001b[0m \u001b[38;5;28;01mdef\u001b[39;00m \u001b[38;5;21mevalf_abs\u001b[39m(expr: \u001b[38;5;124m'\u001b[39m\u001b[38;5;124mAbs\u001b[39m\u001b[38;5;124m'\u001b[39m, prec: \u001b[38;5;28mint\u001b[39m, options: OPT_DICT) \u001b[38;5;241m-\u001b[39m\u001b[38;5;241m>\u001b[39m TMP_RES:\n\u001b[1;32m--> 303\u001b[0m     \u001b[38;5;28;01mreturn\u001b[39;00m \u001b[43mget_abs\u001b[49m\u001b[43m(\u001b[49m\u001b[43mexpr\u001b[49m\u001b[38;5;241;43m.\u001b[39;49m\u001b[43margs\u001b[49m\u001b[43m[\u001b[49m\u001b[38;5;241;43m0\u001b[39;49m\u001b[43m]\u001b[49m\u001b[43m,\u001b[49m\u001b[43m \u001b[49m\u001b[43mprec\u001b[49m\u001b[43m,\u001b[49m\u001b[43m \u001b[49m\u001b[43moptions\u001b[49m\u001b[43m)\u001b[49m\n",
      "File \u001b[1;32mc:\\Users\\hp\\anaconda3\\envs\\Qmsolve\\lib\\site-packages\\sympy\\core\\evalf.py:273\u001b[0m, in \u001b[0;36mget_abs\u001b[1;34m(expr, prec, options)\u001b[0m\n\u001b[0;32m    271\u001b[0m \u001b[38;5;28;01mif\u001b[39;00m im:\n\u001b[0;32m    272\u001b[0m     \u001b[38;5;28;01mif\u001b[39;00m expr\u001b[38;5;241m.\u001b[39mis_number:\n\u001b[1;32m--> 273\u001b[0m         abs_expr, _, acc, _ \u001b[38;5;241m=\u001b[39m evalf(\u001b[38;5;28mabs\u001b[39m(\u001b[43mN\u001b[49m\u001b[43m(\u001b[49m\u001b[43mexpr\u001b[49m\u001b[43m,\u001b[49m\u001b[43m \u001b[49m\u001b[43mprec\u001b[49m\u001b[43m \u001b[49m\u001b[38;5;241;43m+\u001b[39;49m\u001b[43m \u001b[49m\u001b[38;5;241;43m2\u001b[39;49m\u001b[43m)\u001b[49m),\n\u001b[0;32m    274\u001b[0m                                     prec \u001b[38;5;241m+\u001b[39m \u001b[38;5;241m2\u001b[39m, options)\n\u001b[0;32m    275\u001b[0m         \u001b[38;5;28;01mreturn\u001b[39;00m abs_expr, \u001b[38;5;28;01mNone\u001b[39;00m, acc, \u001b[38;5;28;01mNone\u001b[39;00m\n\u001b[0;32m    276\u001b[0m     \u001b[38;5;28;01melse\u001b[39;00m:\n",
      "File \u001b[1;32mc:\\Users\\hp\\anaconda3\\envs\\Qmsolve\\lib\\site-packages\\sympy\\core\\evalf.py:1749\u001b[0m, in \u001b[0;36mN\u001b[1;34m(x, n, **options)\u001b[0m\n\u001b[0;32m   1727\u001b[0m \u001b[38;5;124mr\u001b[39m\u001b[38;5;124;03m\"\"\"\u001b[39;00m\n\u001b[0;32m   1728\u001b[0m \u001b[38;5;124;03mCalls x.evalf(n, \\*\\*options).\u001b[39;00m\n\u001b[0;32m   1729\u001b[0m \n\u001b[1;32m   (...)\u001b[0m\n\u001b[0;32m   1745\u001b[0m \n\u001b[0;32m   1746\u001b[0m \u001b[38;5;124;03m\"\"\"\u001b[39;00m\n\u001b[0;32m   1747\u001b[0m \u001b[38;5;66;03m# by using rational=True, any evaluation of a string\u001b[39;00m\n\u001b[0;32m   1748\u001b[0m \u001b[38;5;66;03m# will be done using exact values for the Floats\u001b[39;00m\n\u001b[1;32m-> 1749\u001b[0m \u001b[38;5;28;01mreturn\u001b[39;00m sympify(x, rational\u001b[38;5;241m=\u001b[39m\u001b[38;5;28;01mTrue\u001b[39;00m)\u001b[38;5;241m.\u001b[39mevalf(n, \u001b[38;5;241m*\u001b[39m\u001b[38;5;241m*\u001b[39moptions)\n",
      "File \u001b[1;32mc:\\Users\\hp\\anaconda3\\envs\\Qmsolve\\lib\\site-packages\\sympy\\core\\evalf.py:1647\u001b[0m, in \u001b[0;36mEvalfMixin.evalf\u001b[1;34m(self, n, subs, maxn, chop, strict, quad, verbose)\u001b[0m\n\u001b[0;32m   1645\u001b[0m     options[\u001b[38;5;124m'\u001b[39m\u001b[38;5;124mquad\u001b[39m\u001b[38;5;124m'\u001b[39m] \u001b[38;5;241m=\u001b[39m quad\n\u001b[0;32m   1646\u001b[0m \u001b[38;5;28;01mtry\u001b[39;00m:\n\u001b[1;32m-> 1647\u001b[0m     result \u001b[38;5;241m=\u001b[39m \u001b[43mevalf\u001b[49m\u001b[43m(\u001b[49m\u001b[38;5;28;43mself\u001b[39;49m\u001b[43m,\u001b[49m\u001b[43m \u001b[49m\u001b[43mprec\u001b[49m\u001b[43m \u001b[49m\u001b[38;5;241;43m+\u001b[39;49m\u001b[43m \u001b[49m\u001b[38;5;241;43m4\u001b[39;49m\u001b[43m,\u001b[49m\u001b[43m \u001b[49m\u001b[43moptions\u001b[49m\u001b[43m)\u001b[49m\n\u001b[0;32m   1648\u001b[0m \u001b[38;5;28;01mexcept\u001b[39;00m \u001b[38;5;167;01mNotImplementedError\u001b[39;00m:\n\u001b[0;32m   1649\u001b[0m     \u001b[38;5;66;03m# Fall back to the ordinary evalf\u001b[39;00m\n\u001b[0;32m   1650\u001b[0m     \u001b[38;5;28;01mif\u001b[39;00m \u001b[38;5;28mhasattr\u001b[39m(\u001b[38;5;28mself\u001b[39m, \u001b[38;5;124m'\u001b[39m\u001b[38;5;124msubs\u001b[39m\u001b[38;5;124m'\u001b[39m) \u001b[38;5;129;01mand\u001b[39;00m subs \u001b[38;5;129;01mis\u001b[39;00m \u001b[38;5;129;01mnot\u001b[39;00m \u001b[38;5;28;01mNone\u001b[39;00m:  \u001b[38;5;66;03m# issue 20291\u001b[39;00m\n",
      "File \u001b[1;32mc:\\Users\\hp\\anaconda3\\envs\\Qmsolve\\lib\\site-packages\\sympy\\core\\evalf.py:1482\u001b[0m, in \u001b[0;36mevalf\u001b[1;34m(x, prec, options)\u001b[0m\n\u001b[0;32m   1480\u001b[0m \u001b[38;5;28;01mtry\u001b[39;00m:\n\u001b[0;32m   1481\u001b[0m     rf \u001b[38;5;241m=\u001b[39m evalf_table[\u001b[38;5;28mtype\u001b[39m(x)]\n\u001b[1;32m-> 1482\u001b[0m     r \u001b[38;5;241m=\u001b[39m \u001b[43mrf\u001b[49m\u001b[43m(\u001b[49m\u001b[43mx\u001b[49m\u001b[43m,\u001b[49m\u001b[43m \u001b[49m\u001b[43mprec\u001b[49m\u001b[43m,\u001b[49m\u001b[43m \u001b[49m\u001b[43moptions\u001b[49m\u001b[43m)\u001b[49m\n\u001b[0;32m   1483\u001b[0m \u001b[38;5;28;01mexcept\u001b[39;00m \u001b[38;5;167;01mKeyError\u001b[39;00m:\n\u001b[0;32m   1484\u001b[0m     \u001b[38;5;66;03m# Fall back to ordinary evalf if possible\u001b[39;00m\n\u001b[0;32m   1485\u001b[0m     \u001b[38;5;28;01mif\u001b[39;00m \u001b[38;5;124m'\u001b[39m\u001b[38;5;124msubs\u001b[39m\u001b[38;5;124m'\u001b[39m \u001b[38;5;129;01min\u001b[39;00m options:\n",
      "File \u001b[1;32mc:\\Users\\hp\\anaconda3\\envs\\Qmsolve\\lib\\site-packages\\sympy\\core\\evalf.py:696\u001b[0m, in \u001b[0;36mevalf_mul\u001b[1;34m(v, prec, options)\u001b[0m\n\u001b[0;32m    694\u001b[0m \u001b[38;5;28;01melif\u001b[39;00m i \u001b[38;5;241m==\u001b[39m last \u001b[38;5;129;01mand\u001b[39;00m arg \u001b[38;5;129;01mis\u001b[39;00m S\u001b[38;5;241m.\u001b[39mOne:\n\u001b[0;32m    695\u001b[0m     \u001b[38;5;28;01mcontinue\u001b[39;00m\n\u001b[1;32m--> 696\u001b[0m re, im, re_acc, im_acc \u001b[38;5;241m=\u001b[39m \u001b[43mevalf\u001b[49m\u001b[43m(\u001b[49m\u001b[43marg\u001b[49m\u001b[43m,\u001b[49m\u001b[43m \u001b[49m\u001b[43mworking_prec\u001b[49m\u001b[43m,\u001b[49m\u001b[43m \u001b[49m\u001b[43moptions\u001b[49m\u001b[43m)\u001b[49m\n\u001b[0;32m    697\u001b[0m \u001b[38;5;28;01mif\u001b[39;00m re \u001b[38;5;129;01mand\u001b[39;00m im:\n\u001b[0;32m    698\u001b[0m     complex_factors\u001b[38;5;241m.\u001b[39mappend((re, im, re_acc, im_acc))\n",
      "File \u001b[1;32mc:\\Users\\hp\\anaconda3\\envs\\Qmsolve\\lib\\site-packages\\sympy\\core\\evalf.py:1482\u001b[0m, in \u001b[0;36mevalf\u001b[1;34m(x, prec, options)\u001b[0m\n\u001b[0;32m   1480\u001b[0m \u001b[38;5;28;01mtry\u001b[39;00m:\n\u001b[0;32m   1481\u001b[0m     rf \u001b[38;5;241m=\u001b[39m evalf_table[\u001b[38;5;28mtype\u001b[39m(x)]\n\u001b[1;32m-> 1482\u001b[0m     r \u001b[38;5;241m=\u001b[39m \u001b[43mrf\u001b[49m\u001b[43m(\u001b[49m\u001b[43mx\u001b[49m\u001b[43m,\u001b[49m\u001b[43m \u001b[49m\u001b[43mprec\u001b[49m\u001b[43m,\u001b[49m\u001b[43m \u001b[49m\u001b[43moptions\u001b[49m\u001b[43m)\u001b[49m\n\u001b[0;32m   1483\u001b[0m \u001b[38;5;28;01mexcept\u001b[39;00m \u001b[38;5;167;01mKeyError\u001b[39;00m:\n\u001b[0;32m   1484\u001b[0m     \u001b[38;5;66;03m# Fall back to ordinary evalf if possible\u001b[39;00m\n\u001b[0;32m   1485\u001b[0m     \u001b[38;5;28;01mif\u001b[39;00m \u001b[38;5;124m'\u001b[39m\u001b[38;5;124msubs\u001b[39m\u001b[38;5;124m'\u001b[39m \u001b[38;5;129;01min\u001b[39;00m options:\n",
      "File \u001b[1;32mc:\\Users\\hp\\anaconda3\\envs\\Qmsolve\\lib\\site-packages\\sympy\\core\\evalf.py:807\u001b[0m, in \u001b[0;36mevalf_pow\u001b[1;34m(v, prec, options)\u001b[0m\n\u001b[0;32m    804\u001b[0m     \u001b[38;5;66;03m# Assumes full accuracy in input\u001b[39;00m\n\u001b[0;32m    805\u001b[0m     \u001b[38;5;28;01mreturn\u001b[39;00m finalize_complex(re, im, target_prec)\n\u001b[1;32m--> 807\u001b[0m result \u001b[38;5;241m=\u001b[39m \u001b[43mevalf\u001b[49m\u001b[43m(\u001b[49m\u001b[43mbase\u001b[49m\u001b[43m,\u001b[49m\u001b[43m \u001b[49m\u001b[43mprec\u001b[49m\u001b[43m \u001b[49m\u001b[38;5;241;43m+\u001b[39;49m\u001b[43m \u001b[49m\u001b[38;5;241;43m5\u001b[39;49m\u001b[43m,\u001b[49m\u001b[43m \u001b[49m\u001b[43moptions\u001b[49m\u001b[43m)\u001b[49m\n\u001b[0;32m    808\u001b[0m \u001b[38;5;28;01mif\u001b[39;00m result \u001b[38;5;129;01mis\u001b[39;00m S\u001b[38;5;241m.\u001b[39mComplexInfinity:\n\u001b[0;32m    809\u001b[0m     \u001b[38;5;28;01mif\u001b[39;00m exp\u001b[38;5;241m.\u001b[39mis_Rational:\n",
      "File \u001b[1;32mc:\\Users\\hp\\anaconda3\\envs\\Qmsolve\\lib\\site-packages\\sympy\\core\\evalf.py:1482\u001b[0m, in \u001b[0;36mevalf\u001b[1;34m(x, prec, options)\u001b[0m\n\u001b[0;32m   1480\u001b[0m \u001b[38;5;28;01mtry\u001b[39;00m:\n\u001b[0;32m   1481\u001b[0m     rf \u001b[38;5;241m=\u001b[39m evalf_table[\u001b[38;5;28mtype\u001b[39m(x)]\n\u001b[1;32m-> 1482\u001b[0m     r \u001b[38;5;241m=\u001b[39m \u001b[43mrf\u001b[49m\u001b[43m(\u001b[49m\u001b[43mx\u001b[49m\u001b[43m,\u001b[49m\u001b[43m \u001b[49m\u001b[43mprec\u001b[49m\u001b[43m,\u001b[49m\u001b[43m \u001b[49m\u001b[43moptions\u001b[49m\u001b[43m)\u001b[49m\n\u001b[0;32m   1483\u001b[0m \u001b[38;5;28;01mexcept\u001b[39;00m \u001b[38;5;167;01mKeyError\u001b[39;00m:\n\u001b[0;32m   1484\u001b[0m     \u001b[38;5;66;03m# Fall back to ordinary evalf if possible\u001b[39;00m\n\u001b[0;32m   1485\u001b[0m     \u001b[38;5;28;01mif\u001b[39;00m \u001b[38;5;124m'\u001b[39m\u001b[38;5;124msubs\u001b[39m\u001b[38;5;124m'\u001b[39m \u001b[38;5;129;01min\u001b[39;00m options:\n",
      "File \u001b[1;32mc:\\Users\\hp\\anaconda3\\envs\\Qmsolve\\lib\\site-packages\\sympy\\core\\evalf.py:600\u001b[0m, in \u001b[0;36mevalf_add\u001b[1;34m(v, prec, options)\u001b[0m\n\u001b[0;32m    597\u001b[0m \u001b[38;5;28;01mwhile\u001b[39;00m \u001b[38;5;241m1\u001b[39m:\n\u001b[0;32m    598\u001b[0m     options[\u001b[38;5;124m'\u001b[39m\u001b[38;5;124mmaxprec\u001b[39m\u001b[38;5;124m'\u001b[39m] \u001b[38;5;241m=\u001b[39m \u001b[38;5;28mmin\u001b[39m(oldmaxprec, \u001b[38;5;241m2\u001b[39m\u001b[38;5;241m*\u001b[39mprec)\n\u001b[1;32m--> 600\u001b[0m     terms \u001b[38;5;241m=\u001b[39m [evalf(arg, prec \u001b[38;5;241m+\u001b[39m \u001b[38;5;241m10\u001b[39m, options) \u001b[38;5;28;01mfor\u001b[39;00m arg \u001b[38;5;129;01min\u001b[39;00m v\u001b[38;5;241m.\u001b[39margs]\n\u001b[0;32m    601\u001b[0m     n \u001b[38;5;241m=\u001b[39m terms\u001b[38;5;241m.\u001b[39mcount(S\u001b[38;5;241m.\u001b[39mComplexInfinity)\n\u001b[0;32m    602\u001b[0m     \u001b[38;5;28;01mif\u001b[39;00m n \u001b[38;5;241m>\u001b[39m\u001b[38;5;241m=\u001b[39m \u001b[38;5;241m2\u001b[39m:\n",
      "File \u001b[1;32mc:\\Users\\hp\\anaconda3\\envs\\Qmsolve\\lib\\site-packages\\sympy\\core\\evalf.py:600\u001b[0m, in \u001b[0;36m<listcomp>\u001b[1;34m(.0)\u001b[0m\n\u001b[0;32m    597\u001b[0m \u001b[38;5;28;01mwhile\u001b[39;00m \u001b[38;5;241m1\u001b[39m:\n\u001b[0;32m    598\u001b[0m     options[\u001b[38;5;124m'\u001b[39m\u001b[38;5;124mmaxprec\u001b[39m\u001b[38;5;124m'\u001b[39m] \u001b[38;5;241m=\u001b[39m \u001b[38;5;28mmin\u001b[39m(oldmaxprec, \u001b[38;5;241m2\u001b[39m\u001b[38;5;241m*\u001b[39mprec)\n\u001b[1;32m--> 600\u001b[0m     terms \u001b[38;5;241m=\u001b[39m [\u001b[43mevalf\u001b[49m\u001b[43m(\u001b[49m\u001b[43marg\u001b[49m\u001b[43m,\u001b[49m\u001b[43m \u001b[49m\u001b[43mprec\u001b[49m\u001b[43m \u001b[49m\u001b[38;5;241;43m+\u001b[39;49m\u001b[43m \u001b[49m\u001b[38;5;241;43m10\u001b[39;49m\u001b[43m,\u001b[49m\u001b[43m \u001b[49m\u001b[43moptions\u001b[49m\u001b[43m)\u001b[49m \u001b[38;5;28;01mfor\u001b[39;00m arg \u001b[38;5;129;01min\u001b[39;00m v\u001b[38;5;241m.\u001b[39margs]\n\u001b[0;32m    601\u001b[0m     n \u001b[38;5;241m=\u001b[39m terms\u001b[38;5;241m.\u001b[39mcount(S\u001b[38;5;241m.\u001b[39mComplexInfinity)\n\u001b[0;32m    602\u001b[0m     \u001b[38;5;28;01mif\u001b[39;00m n \u001b[38;5;241m>\u001b[39m\u001b[38;5;241m=\u001b[39m \u001b[38;5;241m2\u001b[39m:\n",
      "File \u001b[1;32mc:\\Users\\hp\\anaconda3\\envs\\Qmsolve\\lib\\site-packages\\sympy\\core\\evalf.py:1482\u001b[0m, in \u001b[0;36mevalf\u001b[1;34m(x, prec, options)\u001b[0m\n\u001b[0;32m   1480\u001b[0m \u001b[38;5;28;01mtry\u001b[39;00m:\n\u001b[0;32m   1481\u001b[0m     rf \u001b[38;5;241m=\u001b[39m evalf_table[\u001b[38;5;28mtype\u001b[39m(x)]\n\u001b[1;32m-> 1482\u001b[0m     r \u001b[38;5;241m=\u001b[39m \u001b[43mrf\u001b[49m\u001b[43m(\u001b[49m\u001b[43mx\u001b[49m\u001b[43m,\u001b[49m\u001b[43m \u001b[49m\u001b[43mprec\u001b[49m\u001b[43m,\u001b[49m\u001b[43m \u001b[49m\u001b[43moptions\u001b[49m\u001b[43m)\u001b[49m\n\u001b[0;32m   1483\u001b[0m \u001b[38;5;28;01mexcept\u001b[39;00m \u001b[38;5;167;01mKeyError\u001b[39;00m:\n\u001b[0;32m   1484\u001b[0m     \u001b[38;5;66;03m# Fall back to ordinary evalf if possible\u001b[39;00m\n\u001b[0;32m   1485\u001b[0m     \u001b[38;5;28;01mif\u001b[39;00m \u001b[38;5;124m'\u001b[39m\u001b[38;5;124msubs\u001b[39m\u001b[38;5;124m'\u001b[39m \u001b[38;5;129;01min\u001b[39;00m options:\n",
      "File \u001b[1;32mc:\\Users\\hp\\anaconda3\\envs\\Qmsolve\\lib\\site-packages\\sympy\\core\\evalf.py:648\u001b[0m, in \u001b[0;36mevalf_mul\u001b[1;34m(v, prec, options)\u001b[0m\n\u001b[0;32m    646\u001b[0m \u001b[38;5;28;01mfrom\u001b[39;00m \u001b[38;5;21;01m.\u001b[39;00m\u001b[38;5;21;01mnumbers\u001b[39;00m \u001b[38;5;28;01mimport\u001b[39;00m Float\n\u001b[0;32m    647\u001b[0m \u001b[38;5;28;01mfor\u001b[39;00m arg \u001b[38;5;129;01min\u001b[39;00m args:\n\u001b[1;32m--> 648\u001b[0m     result \u001b[38;5;241m=\u001b[39m \u001b[43mevalf\u001b[49m\u001b[43m(\u001b[49m\u001b[43marg\u001b[49m\u001b[43m,\u001b[49m\u001b[43m \u001b[49m\u001b[43mprec\u001b[49m\u001b[43m,\u001b[49m\u001b[43m \u001b[49m\u001b[43moptions\u001b[49m\u001b[43m)\u001b[49m\n\u001b[0;32m    649\u001b[0m     \u001b[38;5;28;01mif\u001b[39;00m result \u001b[38;5;129;01mis\u001b[39;00m S\u001b[38;5;241m.\u001b[39mComplexInfinity:\n\u001b[0;32m    650\u001b[0m         special\u001b[38;5;241m.\u001b[39mappend(result)\n",
      "File \u001b[1;32mc:\\Users\\hp\\anaconda3\\envs\\Qmsolve\\lib\\site-packages\\sympy\\core\\evalf.py:1482\u001b[0m, in \u001b[0;36mevalf\u001b[1;34m(x, prec, options)\u001b[0m\n\u001b[0;32m   1480\u001b[0m \u001b[38;5;28;01mtry\u001b[39;00m:\n\u001b[0;32m   1481\u001b[0m     rf \u001b[38;5;241m=\u001b[39m evalf_table[\u001b[38;5;28mtype\u001b[39m(x)]\n\u001b[1;32m-> 1482\u001b[0m     r \u001b[38;5;241m=\u001b[39m \u001b[43mrf\u001b[49m\u001b[43m(\u001b[49m\u001b[43mx\u001b[49m\u001b[43m,\u001b[49m\u001b[43m \u001b[49m\u001b[43mprec\u001b[49m\u001b[43m,\u001b[49m\u001b[43m \u001b[49m\u001b[43moptions\u001b[49m\u001b[43m)\u001b[49m\n\u001b[0;32m   1483\u001b[0m \u001b[38;5;28;01mexcept\u001b[39;00m \u001b[38;5;167;01mKeyError\u001b[39;00m:\n\u001b[0;32m   1484\u001b[0m     \u001b[38;5;66;03m# Fall back to ordinary evalf if possible\u001b[39;00m\n\u001b[0;32m   1485\u001b[0m     \u001b[38;5;28;01mif\u001b[39;00m \u001b[38;5;124m'\u001b[39m\u001b[38;5;124msubs\u001b[39m\u001b[38;5;124m'\u001b[39m \u001b[38;5;129;01min\u001b[39;00m options:\n",
      "File \u001b[1;32mc:\\Users\\hp\\anaconda3\\envs\\Qmsolve\\lib\\site-packages\\sympy\\core\\evalf.py:776\u001b[0m, in \u001b[0;36mevalf_pow\u001b[1;34m(v, prec, options)\u001b[0m\n\u001b[0;32m    773\u001b[0m \u001b[38;5;66;03m# Exponentiation by p magnifies relative error by |p|, so the\u001b[39;00m\n\u001b[0;32m    774\u001b[0m \u001b[38;5;66;03m# base must be evaluated with increased precision if p is large\u001b[39;00m\n\u001b[0;32m    775\u001b[0m prec \u001b[38;5;241m+\u001b[39m\u001b[38;5;241m=\u001b[39m \u001b[38;5;28mint\u001b[39m(math\u001b[38;5;241m.\u001b[39mlog(\u001b[38;5;28mabs\u001b[39m(p), \u001b[38;5;241m2\u001b[39m))\n\u001b[1;32m--> 776\u001b[0m result \u001b[38;5;241m=\u001b[39m \u001b[43mevalf\u001b[49m\u001b[43m(\u001b[49m\u001b[43mbase\u001b[49m\u001b[43m,\u001b[49m\u001b[43m \u001b[49m\u001b[43mprec\u001b[49m\u001b[43m \u001b[49m\u001b[38;5;241;43m+\u001b[39;49m\u001b[43m \u001b[49m\u001b[38;5;241;43m5\u001b[39;49m\u001b[43m,\u001b[49m\u001b[43m \u001b[49m\u001b[43moptions\u001b[49m\u001b[43m)\u001b[49m\n\u001b[0;32m    777\u001b[0m \u001b[38;5;28;01mif\u001b[39;00m result \u001b[38;5;129;01mis\u001b[39;00m S\u001b[38;5;241m.\u001b[39mComplexInfinity:\n\u001b[0;32m    778\u001b[0m     \u001b[38;5;28;01mif\u001b[39;00m p \u001b[38;5;241m<\u001b[39m \u001b[38;5;241m0\u001b[39m:\n",
      "File \u001b[1;32mc:\\Users\\hp\\anaconda3\\envs\\Qmsolve\\lib\\site-packages\\sympy\\core\\evalf.py:1482\u001b[0m, in \u001b[0;36mevalf\u001b[1;34m(x, prec, options)\u001b[0m\n\u001b[0;32m   1480\u001b[0m \u001b[38;5;28;01mtry\u001b[39;00m:\n\u001b[0;32m   1481\u001b[0m     rf \u001b[38;5;241m=\u001b[39m evalf_table[\u001b[38;5;28mtype\u001b[39m(x)]\n\u001b[1;32m-> 1482\u001b[0m     r \u001b[38;5;241m=\u001b[39m \u001b[43mrf\u001b[49m\u001b[43m(\u001b[49m\u001b[43mx\u001b[49m\u001b[43m,\u001b[49m\u001b[43m \u001b[49m\u001b[43mprec\u001b[49m\u001b[43m,\u001b[49m\u001b[43m \u001b[49m\u001b[43moptions\u001b[49m\u001b[43m)\u001b[49m\n\u001b[0;32m   1483\u001b[0m \u001b[38;5;28;01mexcept\u001b[39;00m \u001b[38;5;167;01mKeyError\u001b[39;00m:\n\u001b[0;32m   1484\u001b[0m     \u001b[38;5;66;03m# Fall back to ordinary evalf if possible\u001b[39;00m\n\u001b[0;32m   1485\u001b[0m     \u001b[38;5;28;01mif\u001b[39;00m \u001b[38;5;124m'\u001b[39m\u001b[38;5;124msubs\u001b[39m\u001b[38;5;124m'\u001b[39m \u001b[38;5;129;01min\u001b[39;00m options:\n",
      "File \u001b[1;32mc:\\Users\\hp\\anaconda3\\envs\\Qmsolve\\lib\\site-packages\\sympy\\core\\evalf.py:600\u001b[0m, in \u001b[0;36mevalf_add\u001b[1;34m(v, prec, options)\u001b[0m\n\u001b[0;32m    597\u001b[0m \u001b[38;5;28;01mwhile\u001b[39;00m \u001b[38;5;241m1\u001b[39m:\n\u001b[0;32m    598\u001b[0m     options[\u001b[38;5;124m'\u001b[39m\u001b[38;5;124mmaxprec\u001b[39m\u001b[38;5;124m'\u001b[39m] \u001b[38;5;241m=\u001b[39m \u001b[38;5;28mmin\u001b[39m(oldmaxprec, \u001b[38;5;241m2\u001b[39m\u001b[38;5;241m*\u001b[39mprec)\n\u001b[1;32m--> 600\u001b[0m     terms \u001b[38;5;241m=\u001b[39m [evalf(arg, prec \u001b[38;5;241m+\u001b[39m \u001b[38;5;241m10\u001b[39m, options) \u001b[38;5;28;01mfor\u001b[39;00m arg \u001b[38;5;129;01min\u001b[39;00m v\u001b[38;5;241m.\u001b[39margs]\n\u001b[0;32m    601\u001b[0m     n \u001b[38;5;241m=\u001b[39m terms\u001b[38;5;241m.\u001b[39mcount(S\u001b[38;5;241m.\u001b[39mComplexInfinity)\n\u001b[0;32m    602\u001b[0m     \u001b[38;5;28;01mif\u001b[39;00m n \u001b[38;5;241m>\u001b[39m\u001b[38;5;241m=\u001b[39m \u001b[38;5;241m2\u001b[39m:\n",
      "File \u001b[1;32mc:\\Users\\hp\\anaconda3\\envs\\Qmsolve\\lib\\site-packages\\sympy\\core\\evalf.py:600\u001b[0m, in \u001b[0;36m<listcomp>\u001b[1;34m(.0)\u001b[0m\n\u001b[0;32m    597\u001b[0m \u001b[38;5;28;01mwhile\u001b[39;00m \u001b[38;5;241m1\u001b[39m:\n\u001b[0;32m    598\u001b[0m     options[\u001b[38;5;124m'\u001b[39m\u001b[38;5;124mmaxprec\u001b[39m\u001b[38;5;124m'\u001b[39m] \u001b[38;5;241m=\u001b[39m \u001b[38;5;28mmin\u001b[39m(oldmaxprec, \u001b[38;5;241m2\u001b[39m\u001b[38;5;241m*\u001b[39mprec)\n\u001b[1;32m--> 600\u001b[0m     terms \u001b[38;5;241m=\u001b[39m [\u001b[43mevalf\u001b[49m\u001b[43m(\u001b[49m\u001b[43marg\u001b[49m\u001b[43m,\u001b[49m\u001b[43m \u001b[49m\u001b[43mprec\u001b[49m\u001b[43m \u001b[49m\u001b[38;5;241;43m+\u001b[39;49m\u001b[43m \u001b[49m\u001b[38;5;241;43m10\u001b[39;49m\u001b[43m,\u001b[49m\u001b[43m \u001b[49m\u001b[43moptions\u001b[49m\u001b[43m)\u001b[49m \u001b[38;5;28;01mfor\u001b[39;00m arg \u001b[38;5;129;01min\u001b[39;00m v\u001b[38;5;241m.\u001b[39margs]\n\u001b[0;32m    601\u001b[0m     n \u001b[38;5;241m=\u001b[39m terms\u001b[38;5;241m.\u001b[39mcount(S\u001b[38;5;241m.\u001b[39mComplexInfinity)\n\u001b[0;32m    602\u001b[0m     \u001b[38;5;28;01mif\u001b[39;00m n \u001b[38;5;241m>\u001b[39m\u001b[38;5;241m=\u001b[39m \u001b[38;5;241m2\u001b[39m:\n",
      "File \u001b[1;32mc:\\Users\\hp\\anaconda3\\envs\\Qmsolve\\lib\\site-packages\\sympy\\core\\evalf.py:1482\u001b[0m, in \u001b[0;36mevalf\u001b[1;34m(x, prec, options)\u001b[0m\n\u001b[0;32m   1480\u001b[0m \u001b[38;5;28;01mtry\u001b[39;00m:\n\u001b[0;32m   1481\u001b[0m     rf \u001b[38;5;241m=\u001b[39m evalf_table[\u001b[38;5;28mtype\u001b[39m(x)]\n\u001b[1;32m-> 1482\u001b[0m     r \u001b[38;5;241m=\u001b[39m \u001b[43mrf\u001b[49m\u001b[43m(\u001b[49m\u001b[43mx\u001b[49m\u001b[43m,\u001b[49m\u001b[43m \u001b[49m\u001b[43mprec\u001b[49m\u001b[43m,\u001b[49m\u001b[43m \u001b[49m\u001b[43moptions\u001b[49m\u001b[43m)\u001b[49m\n\u001b[0;32m   1483\u001b[0m \u001b[38;5;28;01mexcept\u001b[39;00m \u001b[38;5;167;01mKeyError\u001b[39;00m:\n\u001b[0;32m   1484\u001b[0m     \u001b[38;5;66;03m# Fall back to ordinary evalf if possible\u001b[39;00m\n\u001b[0;32m   1485\u001b[0m     \u001b[38;5;28;01mif\u001b[39;00m \u001b[38;5;124m'\u001b[39m\u001b[38;5;124msubs\u001b[39m\u001b[38;5;124m'\u001b[39m \u001b[38;5;129;01min\u001b[39;00m options:\n",
      "File \u001b[1;32mc:\\Users\\hp\\anaconda3\\envs\\Qmsolve\\lib\\site-packages\\sympy\\core\\evalf.py:696\u001b[0m, in \u001b[0;36mevalf_mul\u001b[1;34m(v, prec, options)\u001b[0m\n\u001b[0;32m    694\u001b[0m \u001b[38;5;28;01melif\u001b[39;00m i \u001b[38;5;241m==\u001b[39m last \u001b[38;5;129;01mand\u001b[39;00m arg \u001b[38;5;129;01mis\u001b[39;00m S\u001b[38;5;241m.\u001b[39mOne:\n\u001b[0;32m    695\u001b[0m     \u001b[38;5;28;01mcontinue\u001b[39;00m\n\u001b[1;32m--> 696\u001b[0m re, im, re_acc, im_acc \u001b[38;5;241m=\u001b[39m \u001b[43mevalf\u001b[49m\u001b[43m(\u001b[49m\u001b[43marg\u001b[49m\u001b[43m,\u001b[49m\u001b[43m \u001b[49m\u001b[43mworking_prec\u001b[49m\u001b[43m,\u001b[49m\u001b[43m \u001b[49m\u001b[43moptions\u001b[49m\u001b[43m)\u001b[49m\n\u001b[0;32m    697\u001b[0m \u001b[38;5;28;01mif\u001b[39;00m re \u001b[38;5;129;01mand\u001b[39;00m im:\n\u001b[0;32m    698\u001b[0m     complex_factors\u001b[38;5;241m.\u001b[39mappend((re, im, re_acc, im_acc))\n",
      "File \u001b[1;32mc:\\Users\\hp\\anaconda3\\envs\\Qmsolve\\lib\\site-packages\\sympy\\core\\evalf.py:1479\u001b[0m, in \u001b[0;36mevalf\u001b[1;34m(x, prec, options)\u001b[0m\n\u001b[0;32m   1448\u001b[0m \u001b[38;5;28;01mdef\u001b[39;00m \u001b[38;5;21mevalf\u001b[39m(x: \u001b[38;5;124m'\u001b[39m\u001b[38;5;124mExpr\u001b[39m\u001b[38;5;124m'\u001b[39m, prec: \u001b[38;5;28mint\u001b[39m, options: OPT_DICT) \u001b[38;5;241m-\u001b[39m\u001b[38;5;241m>\u001b[39m TMP_RES:\n\u001b[0;32m   1449\u001b[0m     \u001b[38;5;124;03m\"\"\"\u001b[39;00m\n\u001b[0;32m   1450\u001b[0m \u001b[38;5;124;03m    Evaluate the ``Expr`` instance, ``x``\u001b[39;00m\n\u001b[0;32m   1451\u001b[0m \u001b[38;5;124;03m    to a binary precision of ``prec``. This\u001b[39;00m\n\u001b[1;32m   (...)\u001b[0m\n\u001b[0;32m   1477\u001b[0m \u001b[38;5;124;03m    Note that 0 is also represented as ``fzero = (0, 0, 0, 0)``.\u001b[39;00m\n\u001b[0;32m   1478\u001b[0m \u001b[38;5;124;03m    \"\"\"\u001b[39;00m\n\u001b[1;32m-> 1479\u001b[0m     \u001b[38;5;28;01mfrom\u001b[39;00m \u001b[38;5;21;01msympy\u001b[39;00m\u001b[38;5;21;01m.\u001b[39;00m\u001b[38;5;21;01mfunctions\u001b[39;00m\u001b[38;5;21;01m.\u001b[39;00m\u001b[38;5;21;01melementary\u001b[39;00m\u001b[38;5;21;01m.\u001b[39;00m\u001b[38;5;21;01mcomplexes\u001b[39;00m \u001b[38;5;28;01mimport\u001b[39;00m re \u001b[38;5;28;01mas\u001b[39;00m re_, im \u001b[38;5;28;01mas\u001b[39;00m im_\n\u001b[0;32m   1480\u001b[0m     \u001b[38;5;28;01mtry\u001b[39;00m:\n\u001b[0;32m   1481\u001b[0m         rf \u001b[38;5;241m=\u001b[39m evalf_table[\u001b[38;5;28mtype\u001b[39m(x)]\n",
      "\u001b[1;31mKeyboardInterrupt\u001b[0m: "
     ]
    }
   ],
   "source": [
    "phi_values = [pi*i/100 for i in range(101)]  # Values from 0 to pi\n",
    "theta_values = [pi*i/100 for i in range(101)]  # Values from 0 to pi\n",
    "\n",
    "for phi_value in phi_values:\n",
    "    for theta_value in theta_values:\n",
    "        v2 = f2.subs([(phi, phi_value), (theta, theta_value)])\n",
    "        pd_2 = complex_phase_difference(v2)\n",
    "        if abs(pd_2 - pi/2) < 0.001:  # Tolerance for comparison\n",
    "            print(\"Phi:\", phi_value)\n",
    "            print(\"Theta:\", theta_value)\n",
    "            print(\"Phase Difference:\", pd_2)"
   ]
  },
  {
   "cell_type": "code",
   "execution_count": null,
   "metadata": {},
   "outputs": [
    {
     "name": "stdout",
     "output_type": "stream",
     "text": [
      "19.136790357369495\n"
     ]
    }
   ],
   "source": [
    "print(math.degrees(0.334))"
   ]
  }
 ],
 "metadata": {
  "kernelspec": {
   "display_name": "Qmsolve",
   "language": "python",
   "name": "python3"
  },
  "language_info": {
   "codemirror_mode": {
    "name": "ipython",
    "version": 3
   },
   "file_extension": ".py",
   "mimetype": "text/x-python",
   "name": "python",
   "nbconvert_exporter": "python",
   "pygments_lexer": "ipython3",
   "version": "3.9.16"
  }
 },
 "nbformat": 4,
 "nbformat_minor": 2
}
