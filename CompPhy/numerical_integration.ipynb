{
 "cells": [
  {
   "cell_type": "code",
   "execution_count": 1,
   "metadata": {},
   "outputs": [],
   "source": [
    "# importing relvant libraries\n",
    "import math\n",
    "from ComPhy import *"
   ]
  },
  {
   "cell_type": "markdown",
   "metadata": {},
   "source": [
    "### Numerical Integration\n",
    "\n",
    "Using integration techniques to evaluate the following integral accurate up to 6 places in decimal.\n",
    "\n",
    "$$ \\int_0^1 \\sqrt{(1 + x^4)}$$"
   ]
  },
  {
   "cell_type": "code",
   "execution_count": 2,
   "metadata": {},
   "outputs": [],
   "source": [
    "# Example usage\n",
    "def f(x):\n",
    "    return math.sqrt(1 + x**4)"
   ]
  },
  {
   "cell_type": "code",
   "execution_count": 5,
   "metadata": {},
   "outputs": [],
   "source": [
    "a = 0\n",
    "b = 1\n",
    "num_points = 1000"
   ]
  },
  {
   "cell_type": "code",
   "execution_count": 7,
   "metadata": {},
   "outputs": [
    {
     "name": "stdout",
     "output_type": "stream",
     "text": [
      "Method                 Integral Value\n",
      "-------------------  ----------------\n",
      "Gaussian Quadrature           1.08946\n",
      "\n",
      "Comparison of Convergence:\n",
      "  N    Gaussian Quadrature\n",
      "---  ---------------------\n",
      " 20                1.08946\n",
      " 40                1.08946\n",
      " 60                1.08946\n",
      " 80                1.08946\n",
      "100                1.08946\n",
      "120                1.08946\n"
     ]
    }
   ],
   "source": [
    "method_names = [\"Gaussian Quadrature\"]\n",
    "\n",
    "compare_integration_methods(f, a, b, num_points, method_names, convergence=True)"
   ]
  },
  {
   "cell_type": "code",
   "execution_count": 8,
   "metadata": {},
   "outputs": [
    {
     "name": "stdout",
     "output_type": "stream",
     "text": [
      "Method                 Integral Value\n",
      "-------------------  ----------------\n",
      "Midpoint                      1.08943\n",
      "Trapezoidal                   1.08943\n",
      "Simpson's                     1.08943\n",
      "Monte Carlo                   1.08626\n",
      "Gaussian Quadrature           1.08946\n",
      "\n",
      "Comparison of Convergence:\n",
      "  N    Midpoint    Trapezoidal    Simpson's    Monte Carlo    Gaussian Quadrature\n",
      "---  ----------  -------------  -----------  -------------  ---------------------\n",
      " 20     1.08928        1.08972      1.08943        1.10516                1.08946\n",
      " 40     1.08939        1.0895       1.08943        1.09613                1.08946\n",
      " 60     1.08941        1.08946      1.08943        1.07362                1.08946\n",
      " 80     1.08942        1.08945      1.08943        1.10367                1.08946\n",
      "100     1.08942        1.08944      1.08943        1.11038                1.08946\n",
      "120     1.08943        1.08944      1.08943        1.11211                1.08946\n"
     ]
    }
   ],
   "source": [
    "method_names = [\"Midpoint\", \"Trapezoidal\", \"Simpson's\", \"Monte Carlo\", \"Gaussian Quadrature\"]\n",
    "\n",
    "compare_integration_methods(f, a, b, num_points, method_names, convergence=True)"
   ]
  }
 ],
 "metadata": {
  "kernelspec": {
   "display_name": "base",
   "language": "python",
   "name": "python3"
  },
  "language_info": {
   "codemirror_mode": {
    "name": "ipython",
    "version": 3
   },
   "file_extension": ".py",
   "mimetype": "text/x-python",
   "name": "python",
   "nbconvert_exporter": "python",
   "pygments_lexer": "ipython3",
   "version": "3.9.5"
  }
 },
 "nbformat": 4,
 "nbformat_minor": 2
}
