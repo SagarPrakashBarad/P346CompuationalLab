{
 "cells": [
  {
   "cell_type": "code",
   "execution_count": 1,
   "metadata": {},
   "outputs": [],
   "source": [
    "import numpy as np # for printing matrix and vectors only for comparisons\n",
    "from tabulate import tabulate # for printing matrix and vectors\n",
    "from fractions import Fraction"
   ]
  },
  {
   "cell_type": "markdown",
   "metadata": {},
   "source": [
    "## Question 1: Power Method and QR Decomposition"
   ]
  },
  {
   "cell_type": "code",
   "execution_count": 2,
   "metadata": {},
   "outputs": [],
   "source": [
    "def read_matrix_vector(filename):\n",
    "    \"\"\"Read the matrix and vector from a text file. Able to handle fractions.\"\"\"\n",
    "    with open(filename, 'r') as file:\n",
    "        lines = file.readlines()\n",
    "    \n",
    "    matrix = []\n",
    "    for line in lines[:]: \n",
    "        line = line.strip()\n",
    "        row = []\n",
    "        for val in line.split():\n",
    "            # Handle fractions\n",
    "            if '/' in val:\n",
    "                numerator, denominator = val.split('/')\n",
    "                frac_val = Fraction(int(numerator), int(denominator))\n",
    "                row.append(float(frac_val))\n",
    "            else:\n",
    "                row.append(float(val))\n",
    "        matrix.append(row)\n",
    "    \n",
    "    return np.array(matrix)"
   ]
  },
  {
   "cell_type": "code",
   "execution_count": 3,
   "metadata": {},
   "outputs": [
    {
     "name": "stdout",
     "output_type": "stream",
     "text": [
      "Matrix:\n",
      "╒═══════════╤══════════╤══════════╤═════════╕\n",
      "│  4        │ 0.666667 │ -1.33333 │ 1.33333 │\n",
      "├───────────┼──────────┼──────────┼─────────┤\n",
      "│  0.666667 │ 4        │  0       │ 0       │\n",
      "├───────────┼──────────┼──────────┼─────────┤\n",
      "│ -1.33333  │ 0        │  6       │ 2       │\n",
      "├───────────┼──────────┼──────────┼─────────┤\n",
      "│  1.33333  │ 0        │  2       │ 6       │\n",
      "╘═══════════╧══════════╧══════════╧═════════╛\n"
     ]
    }
   ],
   "source": [
    "filename = 'q1_input.txt'\n",
    "A = read_matrix_vector(filename)\n",
    "    \n",
    "print(\"Matrix:\")\n",
    "print(tabulate(A, tablefmt='fancy_grid'))"
   ]
  },
  {
   "cell_type": "code",
   "execution_count": 4,
   "metadata": {},
   "outputs": [],
   "source": [
    "def largest_eigenvalue(matrix, initial_guess, tolerable_error=1e-6, max_iteration=1000):\n",
    "    \"\"\"Calculate the largest eigenvalue using the Power Method.\"\"\"\n",
    "    n = len(matrix)\n",
    "    \n",
    "    x = initial_guess\n",
    "    \n",
    "    lambda_old = 1.0\n",
    "    \n",
    "    # Power Method iteration\n",
    "    for _ in range(max_iteration):\n",
    "        # Multiply the matrix and the vector\n",
    "        x = np.matmul(matrix, x)\n",
    "        \n",
    "        # new eigenvalue\n",
    "        lambda_new = max(abs(x))\n",
    "        \n",
    "        x = x / lambda_new\n",
    "        \n",
    "        if abs(lambda_new - lambda_old) < tolerable_error:\n",
    "            return lambda_new\n",
    "        \n",
    "        lambda_old = lambda_new\n",
    "    \n",
    "    # If max iterations reached without convergence, return None\n",
    "    return None"
   ]
  },
  {
   "cell_type": "code",
   "execution_count": 5,
   "metadata": {},
   "outputs": [],
   "source": [
    "initial_guess = np.ones(len(A))\n",
    "\n",
    "# eigenvalues using the power method\n",
    "largest_eigval_custom = largest_eigenvalue(A, initial_guess)\n",
    "\n",
    "# eigenvalues using numpy's built-in function\n",
    "eigenvalues = np.linalg.eigvals(A)\n",
    "largest_eigval_np = max(abs(eigenvalues))"
   ]
  },
  {
   "cell_type": "code",
   "execution_count": 6,
   "metadata": {},
   "outputs": [
    {
     "name": "stdout",
     "output_type": "stream",
     "text": [
      "╒════════════════╤══════════════════════╕\n",
      "│ Method         │   Largest Eigenvalue │\n",
      "╞════════════════╪══════════════════════╡\n",
      "│ Power Method   │                    8 │\n",
      "├────────────────┼──────────────────────┤\n",
      "│ NumPy Function │                    8 │\n",
      "╘════════════════╧══════════════════════╛\n"
     ]
    }
   ],
   "source": [
    "results = [\n",
    "    [\"Power Method\", largest_eigval_custom],\n",
    "    [\"NumPy Function\", largest_eigval_np]\n",
    "]\n",
    "\n",
    "print(tabulate(results, headers=[\"Method\", \"Largest Eigenvalue\"], tablefmt=\"fancy_grid\"))"
   ]
  },
  {
   "cell_type": "code",
   "execution_count": 7,
   "metadata": {},
   "outputs": [],
   "source": [
    "class QREigendecomposition:\n",
    "    \"\"\"\n",
    "    QR eigenvalue algorithm for symmetric matrices\n",
    "    \"\"\"\n",
    "\n",
    "    def __init__(self, store_intermediate=False):\n",
    "        self.eigenvalues = None\n",
    "        self.eigenvectors = None\n",
    "        self.store_intermediate = store_intermediate\n",
    "\n",
    "    def qr_factorization(self, X):\n",
    "        \"\"\"\n",
    "        Compute the QR factorization of a square matrix using gram-schmidt \n",
    "        orthonormalization.\n",
    "        \"\"\"\n",
    "\n",
    "        X = X.T # want first index to be the column index (for convenience)\n",
    "\n",
    "        q, r = np.zeros(X.shape), np.zeros(X.shape) # preallocate\n",
    "        q[0] = X[0] / np.linalg.norm(X[0])\n",
    "        r[0] = X @ q[0]\n",
    "        for i in range(1, X.shape[0]):\n",
    "            q[i] = X[i] - np.sum(np.dot(X[i], q[:i].T) * q[:i].T, axis=-1)\n",
    "            q[i] /= np.linalg.norm(q[i])\n",
    "\n",
    "            ## Update the upper triangular matrix R\n",
    "            r[i, i:] = X[i:] @ q[i]\n",
    "        \n",
    "        q = q.T # because we took transpose beforehand for easier indexing\n",
    "        return q, r\n",
    "\n",
    "    def find_eigensystem(self, X, max_iter=2000, tol=1e-6):\n",
    "        \"\"\"\n",
    "        Eigenvalues and eigenvectors of a matrix\n",
    "        \"\"\"\n",
    "        prev = np.copy(X)\n",
    "        tq = np.identity(X.shape[0])\n",
    "        if self.store_intermediate: self.intermediate = [np.copy(X)]\n",
    "        for i in range(max_iter):\n",
    "            q, r = self.qr_factorization(X)\n",
    "            \n",
    "            X = r @ q \n",
    "\n",
    "            tq = tq @ q # accumulate the eigenvector matrix\n",
    "\n",
    "            if self.store_intermediate: self.intermediate.append(np.copy(X))\n",
    "\n",
    "            ## Check for convergence and stop early if converged\n",
    "            if np.linalg.norm(X - prev) < tol:\n",
    "                break\n",
    "            prev = np.copy(X)\n",
    "        eigenvalues, eigenvectors = np.diag(X), tq\n",
    "        sort_inds = np.argsort(eigenvalues)\n",
    "        eigenvalues, eigenvectors = eigenvalues[sort_inds], eigenvectors[:, sort_inds]\n",
    "        self.eigenvalues, self.eigenvectors = eigenvalues, eigenvectors\n",
    "        return eigenvalues, eigenvectors"
   ]
  },
  {
   "cell_type": "code",
   "execution_count": 8,
   "metadata": {},
   "outputs": [
    {
     "name": "stdout",
     "output_type": "stream",
     "text": [
      "Eigenvalues:\n",
      "╒═════════════╤═══╤═══╤═══╤═══╕\n",
      "│ Eigenvalues │ 2 │ 4 │ 6 │ 8 │\n",
      "╘═════════════╧═══╧═══╧═══╧═══╛\n",
      "\n",
      "Eigenvectors:\n",
      "╒═════════════════╤═════════════════╤═════════════════╤═════════════════╕\n",
      "│   Eigenvector 1 │   Eigenvector 2 │   Eigenvector 3 │   Eigenvector 4 │\n",
      "╞═════════════════╪═════════════════╪═════════════════╪═════════════════╡\n",
      "│       -0.707107 │    -1.68587e-07 │        0.707107 │     1.84787e-13 │\n",
      "├─────────────────┼─────────────────┼─────────────────┼─────────────────┤\n",
      "│        0.235702 │     0.942809    │        0.235702 │     5.34017e-11 │\n",
      "├─────────────────┼─────────────────┼─────────────────┼─────────────────┤\n",
      "│       -0.471405 │     0.235702    │       -0.471405 │     0.707107    │\n",
      "├─────────────────┼─────────────────┼─────────────────┼─────────────────┤\n",
      "│        0.471405 │    -0.235702    │        0.471405 │     0.707107    │\n",
      "╘═════════════════╧═════════════════╧═════════════════╧═════════════════╛\n"
     ]
    }
   ],
   "source": [
    "QRSolver = QREigendecomposition(store_intermediate=True)\n",
    "eigenvalues, eigenvectors = QRSolver.find_eigensystem(A)\n",
    "\n",
    "eigenvalues_list = eigenvalues.tolist()\n",
    "eigenvectors_list = eigenvectors.tolist()\n",
    "\n",
    "print(\"Eigenvalues:\")\n",
    "print(tabulate([[\"Eigenvalues\"] + eigenvalues_list], tablefmt=\"fancy_grid\"))\n",
    "print(\"\\nEigenvectors:\")\n",
    "print(tabulate(eigenvectors_list, headers=[\"Eigenvector \" + str(i+1) for i in range(len(eigenvectors_list))], tablefmt=\"fancy_grid\"))"
   ]
  },
  {
   "cell_type": "code",
   "execution_count": 9,
   "metadata": {},
   "outputs": [
    {
     "name": "stdout",
     "output_type": "stream",
     "text": [
      "\n",
      "Eigenvalues (NumPy):\n",
      "╒═════════════╤═══╤═══╤═══╤═══╕\n",
      "│ Eigenvalues │ 2 │ 4 │ 6 │ 8 │\n",
      "╘═════════════╧═══╧═══╧═══╧═══╛\n",
      "\n",
      "Eigenvectors (NumPy):\n",
      "╒═════════════════╤═════════════════╤═════════════════╤═════════════════╕\n",
      "│   Eigenvector 1 │   Eigenvector 2 │   Eigenvector 3 │   Eigenvector 4 │\n",
      "╞═════════════════╪═════════════════╪═════════════════╪═════════════════╡\n",
      "│        0.707107 │    -6.28037e-16 │        0.707107 │      0          │\n",
      "├─────────────────┼─────────────────┼─────────────────┼─────────────────┤\n",
      "│       -0.235702 │     0.942809    │        0.235702 │     -1.4803e-16 │\n",
      "├─────────────────┼─────────────────┼─────────────────┼─────────────────┤\n",
      "│        0.471405 │     0.235702    │       -0.471405 │      0.707107   │\n",
      "├─────────────────┼─────────────────┼─────────────────┼─────────────────┤\n",
      "│       -0.471405 │    -0.235702    │        0.471405 │      0.707107   │\n",
      "╘═════════════════╧═════════════════╧═════════════════╧═════════════════╛\n"
     ]
    }
   ],
   "source": [
    "eigenvalues_np, eigenvectors_np = np.linalg.eigh(A)\n",
    "\n",
    "eigenvalues_np_list = eigenvalues_np.tolist()\n",
    "eigenvectors_np_list = eigenvectors_np.tolist()\n",
    "\n",
    "# Print eigenvalues and eigenvectors using tabulate\n",
    "print(\"\\nEigenvalues (NumPy):\")\n",
    "print(tabulate([[\"Eigenvalues\"] + eigenvalues_np_list], tablefmt=\"fancy_grid\"))\n",
    "print(\"\\nEigenvectors (NumPy):\")\n",
    "print(tabulate(eigenvectors_np_list, headers=[\"Eigenvector \" + str(i+1) for i in range(len(eigenvectors_np_list))], tablefmt=\"fancy_grid\"))\n"
   ]
  },
  {
   "cell_type": "markdown",
   "metadata": {},
   "source": [
    "## Q2: Cubic Fitting with functional basis"
   ]
  },
  {
   "cell_type": "code",
   "execution_count": 10,
   "metadata": {},
   "outputs": [],
   "source": [
    "def read_data(filename):\n",
    "    \"\"\"Read input data from a text file.\"\"\"\n",
    "    with open(filename, 'r') as file:\n",
    "        data = [list(map(float, line.strip().split())) for line in file]\n",
    "    return np.array(data)\n",
    "\n",
    "def linear_regression(X, y):\n",
    "    \"\"\"Perform linear regression.\"\"\"\n",
    "    # Solve normal equations: (X^T*X)*beta = X^T*y\n",
    "    beta = np.linalg.inv(X.T @ X) @ X.T @ y\n",
    "    \n",
    "    return beta.flatten()  # Flatten beta to get coefficients"
   ]
  },
  {
   "cell_type": "code",
   "execution_count": 11,
   "metadata": {},
   "outputs": [],
   "source": [
    "def chebyshev_basis(x, order):\n",
    "    \"\"\"Compute Chebyshev polynomial basis up to the desired order.\"\"\"\n",
    "    basis = [np.ones_like(x), x]\n",
    "    for i in range(2, order + 1):\n",
    "        basis.append(2 * x * basis[-1] - basis[-2])\n",
    "    return np.column_stack(basis)\n",
    "\n",
    "def cubic_fit_with_chebyshev_basis(data, order=3):\n",
    "    \"\"\"Perform cubic fit using Chebyshev polynomial basis.\"\"\"\n",
    "    x = data[:, 0] \n",
    "    y = data[:, 1] \n",
    "    \n",
    "    # Chebyshev polynomial basis\n",
    "    X = chebyshev_basis(x, order)\n",
    "    \n",
    "    # linear regression\n",
    "    coefficients = linear_regression(X, y)\n",
    "    \n",
    "    return coefficients"
   ]
  },
  {
   "cell_type": "code",
   "execution_count": 12,
   "metadata": {},
   "outputs": [],
   "source": [
    "filename = 'q2_input.txt'  # Change this to your input file\n",
    "data = read_data(filename)\n",
    "\n",
    "coefficients_chebyshev = cubic_fit_with_chebyshev_basis(data)\n",
    "coefficients_numpy = np.polyfit(data[:,0], data[:,1], 3)"
   ]
  },
  {
   "cell_type": "code",
   "execution_count": 13,
   "metadata": {},
   "outputs": [
    {
     "name": "stdout",
     "output_type": "stream",
     "text": [
      "\n",
      "Comparison of coefficients:\n",
      "╒════════════════════╤═════════════╤══════════════════════╤═══════════════════════════╤══════════════════════════════╕\n",
      "│ Coefficient        │   Chebyshev │   Polynomial (NumPy) │ Chebyshev to Polynomial   │   Polynomial (Made to Match) │\n",
      "╞════════════════════╪═════════════╪══════════════════════╪═══════════════════════════╪══════════════════════════════╡\n",
      "│ Intercept          │    -4.98945 │             0.574659 │ a_o - a_2                 │                     0.574659 │\n",
      "├────────────────────┼─────────────┼──────────────────────┼───────────────────────────┼──────────────────────────────┤\n",
      "│ Coefficient of x   │    10.4774  │             4.72586  │ a_1 - 3a_3                │                     4.72586  │\n",
      "├────────────────────┼─────────────┼──────────────────────┼───────────────────────────┼──────────────────────────────┤\n",
      "│ Coefficient of x^2 │    -5.56411 │           -11.1282   │ 2a_2                      │                   -11.1282   │\n",
      "├────────────────────┼─────────────┼──────────────────────┼───────────────────────────┼──────────────────────────────┤\n",
      "│ Coefficient of x^3 │     1.91717 │             7.66868  │ 4a_3                      │                     7.66868  │\n",
      "╘════════════════════╧═════════════╧══════════════════════╧═══════════════════════════╧══════════════════════════════╛\n"
     ]
    }
   ],
   "source": [
    "# comparison using tabulate\n",
    "comparison = [[\"Intercept\", coefficients_chebyshev[0], coefficients_numpy[3], \"a_o - a_2\", coefficients_chebyshev[0] - coefficients_chebyshev[2]],\n",
    "               [\"Coefficient of x\", coefficients_chebyshev[1], coefficients_numpy[2], \"a_1 - 3a_3\", coefficients_chebyshev[1] - 3*coefficients_chebyshev[3]],\n",
    "               [\"Coefficient of x^2\", coefficients_chebyshev[2], coefficients_numpy[1], \"2a_2\", 2*coefficients_chebyshev[2]],\n",
    "               [\"Coefficient of x^3\", coefficients_chebyshev[3], coefficients_numpy[0], \"4a_3\", 4*coefficients_chebyshev[3]]]\n",
    "print(\"\\nComparison of coefficients:\")\n",
    "print(tabulate(comparison, headers=[\"Coefficient\", \"Chebyshev\", \"Polynomial (NumPy)\", \"Chebyshev to Polynomial\", \"Polynomial (Made to Match)\"], tablefmt=\"fancy_grid\"))"
   ]
  },
  {
   "cell_type": "code",
   "execution_count": 14,
   "metadata": {},
   "outputs": [],
   "source": [
    "def modified_basis(x):\n",
    "    \"\"\"Modify the basis functions for cubic fit.\"\"\"\n",
    "    return np.column_stack((np.ones_like(x), 2*x - 1, 8*x**2 - 8*x + 1, 32*x**3 - 48*x**2 + 18*x - 1))  # Basis for cubic fit\n",
    "\n",
    "def cubic_fit_with_modified_basis(data):\n",
    "    \"\"\"Perform cubic fit using modified basis.\"\"\"\n",
    "    x = data[:, 0]  # Assuming first column is x values\n",
    "    y = data[:, 1]  # Assuming second column is y values\n",
    "    \n",
    "    # Compute modified basis\n",
    "    X = modified_basis(x)\n",
    "    \n",
    "    # Perform linear regression\n",
    "    coefficients = linear_regression(X, y)\n",
    "    \n",
    "    return coefficients"
   ]
  },
  {
   "cell_type": "code",
   "execution_count": 16,
   "metadata": {},
   "outputs": [
    {
     "name": "stdout",
     "output_type": "stream",
     "text": [
      "\n",
      "Comparison of coefficients:\n",
      "╒════════════════════╤══════════════════════╤══════════════════════╤═══════════════════════════╤══════════════════════════════╕\n",
      "│ Coefficient        │   Modified Chebyshev │   Polynomial (NumPy) │ Chebyshev to Polynomial   │   Polynomial (Made to Match) │\n",
      "╞════════════════════╪══════════════════════╪══════════════════════╪═══════════════════════════╪══════════════════════════════╡\n",
      "│ Intercept          │            1.16097   │             0.574659 │ a_o - a_1 + a_2 - a_4     │                     0.574659 │\n",
      "├────────────────────┼──────────────────────┼──────────────────────┼───────────────────────────┼──────────────────────────────┤\n",
      "│ Coefficient of x   │            0.393514  │             4.72586  │ 2a_1 - 8a_2 + 18a_3       │                     4.72586  │\n",
      "├────────────────────┼──────────────────────┼──────────────────────┼───────────────────────────┼──────────────────────────────┤\n",
      "│ Coefficient of x^2 │            0.0468498 │           -11.1282   │ 8a_2 - 48a_3              │                   -11.1282   │\n",
      "├────────────────────┼──────────────────────┼──────────────────────┼───────────────────────────┼──────────────────────────────┤\n",
      "│ Coefficient of x^3 │            0.239646  │             7.66868  │ 32a_3                     │                     7.66868  │\n",
      "╘════════════════════╧══════════════════════╧══════════════════════╧═══════════════════════════╧══════════════════════════════╛\n"
     ]
    }
   ],
   "source": [
    "# Perform cubic fit using modified basis\n",
    "coefficients_modified_basis = cubic_fit_with_modified_basis(data)\n",
    "coefficients_numpy = np.polyfit(data[:,0], data[:,1], 3)\n",
    "\n",
    "# comparison using tabulate\n",
    "comparison = [[\"Intercept\", coefficients_modified_basis[0], coefficients_numpy[3], \"a_o - a_1 + a_2 - a_4\", coefficients_modified_basis[0] + coefficients_modified_basis[2] - coefficients_modified_basis[1] -coefficients_modified_basis[3]],\n",
    "               [\"Coefficient of x\", coefficients_modified_basis[1], coefficients_numpy[2], \"2a_1 - 8a_2 + 18a_3\", 2*coefficients_modified_basis[1] + 18*coefficients_modified_basis[3] - 8*coefficients_modified_basis[2]],\n",
    "               [\"Coefficient of x^2\", coefficients_modified_basis[2], coefficients_numpy[1], \"8a_2 - 48a_3\", 8*coefficients_modified_basis[2] - 48*coefficients_modified_basis[3]],\n",
    "               [\"Coefficient of x^3\", coefficients_modified_basis[3], coefficients_numpy[0], \"32a_3\", 32*coefficients_modified_basis[3]]]\n",
    "print(\"\\nComparison of coefficients:\")\n",
    "print(tabulate(comparison, headers=[\"Coefficient\", \"Modified Chebyshev\", \"Polynomial (NumPy)\", \"Chebyshev to Polynomial\", \"Polynomial (Made to Match)\"], tablefmt=\"fancy_grid\"))"
   ]
  },
  {
   "cell_type": "markdown",
   "metadata": {},
   "source": [
    "The condition number of a matrix is a measure of how sensitive the solution of a linear system is to changes in the matrix or the right-hand side vector. It gives an indication of the stability of the solution with respect to small perturbations in the input data. There are different ways to calculate the condition number of a matrix, and each method has its relative merits depending on factors such as computational efficiency, accuracy, and the specific properties of the matrix being analyzed. Let's compare some common methods for calculating the condition number:\n",
    "\n",
    "1. **Direct computation:** This method calculates the condition number using the formula $ \\text{cond}(A) = \\| A \\| \\cdot \\| A^{-1} \\| $. It provides accurate results but can be computationally expensive, especially for large matrices, due to the need to compute the matrix inverse.\n",
    "\n",
    "2. **Singular value decomposition (SVD):** The condition number can be computed using the singular values of the matrix \\( A \\) obtained from its SVD. This method is more computationally efficient than direct computation and gives a good approximation of the condition number.\n",
    "\n",
    "3. **Iterative methods:** Some iterative methods can estimate the condition number without explicitly computing the matrix inverse or SVD. While these methods may offer faster computations, they may sacrifice accuracy compared to direct or SVD-based methods.\n",
    "\n"
   ]
  }
 ],
 "metadata": {
  "kernelspec": {
   "display_name": "base",
   "language": "python",
   "name": "python3"
  },
  "language_info": {
   "codemirror_mode": {
    "name": "ipython",
    "version": 3
   },
   "file_extension": ".py",
   "mimetype": "text/x-python",
   "name": "python",
   "nbconvert_exporter": "python",
   "pygments_lexer": "ipython3",
   "version": "3.11.8"
  }
 },
 "nbformat": 4,
 "nbformat_minor": 2
}
