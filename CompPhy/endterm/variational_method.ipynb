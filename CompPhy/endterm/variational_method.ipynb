{
 "cells": [
  {
   "cell_type": "code",
   "execution_count": 1,
   "metadata": {},
   "outputs": [],
   "source": [
    "import sympy as sp"
   ]
  },
  {
   "cell_type": "code",
   "execution_count": 2,
   "metadata": {},
   "outputs": [],
   "source": [
    "# Define the variable and constants\n",
    "x = sp.Symbol('x', real=True)\n",
    "a = sp.Symbol('a', positive=True)\n",
    "\n",
    "# Define the wavefunction and potential energy\n",
    "psi = 0.5 * (a**2 - x**2)\n",
    "V = 0.5 * x**2  # Harmonic oscillator potential energy\n",
    "\n",
    "# Schrödinger equation: Hψ = Eψ\n",
    "H_psi = -sp.diff(psi, x, 2) + V * psi"
   ]
  },
  {
   "cell_type": "code",
   "execution_count": 3,
   "metadata": {},
   "outputs": [
    {
     "data": {
      "text/latex": [
       "$\\displaystyle 0.5 x^{2} \\cdot \\left(0.5 a^{2} - 0.5 x^{2}\\right) + 1.0$"
      ],
      "text/plain": [
       "0.5*x**2*(0.5*a**2 - 0.5*x**2) + 1.0"
      ]
     },
     "execution_count": 3,
     "metadata": {},
     "output_type": "execute_result"
    }
   ],
   "source": [
    "H_psi "
   ]
  }
 ],
 "metadata": {
  "kernelspec": {
   "display_name": "pytorch",
   "language": "python",
   "name": "python3"
  },
  "language_info": {
   "codemirror_mode": {
    "name": "ipython",
    "version": 3
   },
   "file_extension": ".py",
   "mimetype": "text/x-python",
   "name": "python",
   "nbconvert_exporter": "python",
   "pygments_lexer": "ipython3",
   "version": "3.9.5"
  }
 },
 "nbformat": 4,
 "nbformat_minor": 2
}
